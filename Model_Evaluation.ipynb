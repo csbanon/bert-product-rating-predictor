{
  "nbformat": 4,
  "nbformat_minor": 0,
  "metadata": {
    "colab": {
      "name": "Model Evaluation.ipynb",
      "provenance": [],
      "collapsed_sections": [],
      "include_colab_link": true
    },
    "kernelspec": {
      "name": "python3",
      "display_name": "Python 3"
    }
  },
  "cells": [
    {
      "cell_type": "markdown",
      "metadata": {
        "id": "view-in-github",
        "colab_type": "text"
      },
      "source": [
        "<a href=\"https://colab.research.google.com/github/csbanon/bert-product-rating-predictor/blob/master/Model_Evaluation.ipynb\" target=\"_parent\"><img src=\"https://colab.research.google.com/assets/colab-badge.svg\" alt=\"Open In Colab\"/></a>"
      ]
    },
    {
      "cell_type": "code",
      "metadata": {
        "id": "jYFOkUtMs4mS",
        "colab": {
          "base_uri": "https://localhost:8080/"
        },
        "outputId": "ff204e7c-0281-4b48-eed5-ccc8e9181dab"
      },
      "source": [
        "# Required modules\n",
        "!pip install Unidecode\n",
        "!pip install word2number"
      ],
      "execution_count": null,
      "outputs": [
        {
          "output_type": "stream",
          "text": [
            "Collecting Unidecode\n",
            "\u001b[?25l  Downloading https://files.pythonhosted.org/packages/d0/42/d9edfed04228bacea2d824904cae367ee9efd05e6cce7ceaaedd0b0ad964/Unidecode-1.1.1-py2.py3-none-any.whl (238kB)\n",
            "\u001b[K     |████████████████████████████████| 245kB 5.9MB/s \n",
            "\u001b[?25hInstalling collected packages: Unidecode\n",
            "Successfully installed Unidecode-1.1.1\n",
            "Collecting word2number\n",
            "  Downloading https://files.pythonhosted.org/packages/4a/29/a31940c848521f0725f0df6b25dca8917f13a2025b0e8fcbe5d0457e45e6/word2number-1.1.zip\n",
            "Building wheels for collected packages: word2number\n",
            "  Building wheel for word2number (setup.py) ... \u001b[?25l\u001b[?25hdone\n",
            "  Created wheel for word2number: filename=word2number-1.1-cp36-none-any.whl size=5588 sha256=f4055731626386b7ae8c1d7be34fbd6dfc0a6a3bd4ebad65fb38cfaba7d7aaf1\n",
            "  Stored in directory: /root/.cache/pip/wheels/46/2f/53/5f5c1d275492f2fce1cdab9a9bb12d49286dead829a4078e0e\n",
            "Successfully built word2number\n",
            "Installing collected packages: word2number\n",
            "Successfully installed word2number-1.1\n"
          ],
          "name": "stdout"
        }
      ]
    },
    {
      "cell_type": "code",
      "metadata": {
        "id": "XS2Zz15HSBUx"
      },
      "source": [
        "# Imports\n",
        "import numpy as np\n",
        "import pandas as pd\n",
        "import matplotlib.pyplot as plt\n",
        "from sklearn.metrics import confusion_matrix, multilabel_confusion_matrix, accuracy_score, precision_score, recall_score, f1_score, classification_report\n",
        "from sklearn.model_selection import train_test_split\n",
        "from sklearn.feature_extraction.text import CountVectorizer, TfidfVectorizer\n",
        "from sklearn.linear_model import LogisticRegression\n",
        "from sklearn.naive_bayes import MultinomialNB"
      ],
      "execution_count": null,
      "outputs": []
    },
    {
      "cell_type": "code",
      "metadata": {
        "id": "F4B1q5UIfURl",
        "colab": {
          "base_uri": "https://localhost:8080/"
        },
        "outputId": "01b0150c-71e3-4978-a39d-bff651bec574"
      },
      "source": [
        "# More imports\n",
        "import nltk\n",
        "nltk.download('stopwords')\n",
        "nltk.download('wordnet')\n",
        "from nltk.stem.wordnet import WordNetLemmatizer\n",
        "from nltk.stem.porter import PorterStemmer\n",
        "from nltk.corpus import stopwords\n",
        "from nltk.tokenize import RegexpTokenizer \n",
        "\n",
        "import string\n",
        "import unidecode\n",
        "import re\n",
        "import unidecode"
      ],
      "execution_count": null,
      "outputs": [
        {
          "output_type": "stream",
          "text": [
            "[nltk_data] Downloading package stopwords to /root/nltk_data...\n",
            "[nltk_data]   Unzipping corpora/stopwords.zip.\n",
            "[nltk_data] Downloading package wordnet to /root/nltk_data...\n",
            "[nltk_data]   Unzipping corpora/wordnet.zip.\n"
          ],
          "name": "stdout"
        }
      ]
    },
    {
      "cell_type": "code",
      "metadata": {
        "id": "_YXHkkBYRtEi",
        "colab": {
          "base_uri": "https://localhost:8080/",
          "height": 191
        },
        "outputId": "ca306f24-f0ae-4cc0-c988-121a102ec54d"
      },
      "source": [
        "# Create a dataframe of all reviews (with comments and star ratings only)\n",
        "github_url = 'https://raw.githubusercontent.com/csbanon/bert-product-rating-predictor/master/data/reviews_comments_stars.csv'\n",
        "df = pd.read_csv(github_url)\n",
        "df = df[['comment', 'stars']]\n",
        "df.head()"
      ],
      "execution_count": null,
      "outputs": [
        {
          "output_type": "execute_result",
          "data": {
            "text/html": [
              "<div>\n",
              "<style scoped>\n",
              "    .dataframe tbody tr th:only-of-type {\n",
              "        vertical-align: middle;\n",
              "    }\n",
              "\n",
              "    .dataframe tbody tr th {\n",
              "        vertical-align: top;\n",
              "    }\n",
              "\n",
              "    .dataframe thead th {\n",
              "        text-align: right;\n",
              "    }\n",
              "</style>\n",
              "<table border=\"1\" class=\"dataframe\">\n",
              "  <thead>\n",
              "    <tr style=\"text-align: right;\">\n",
              "      <th></th>\n",
              "      <th>comment</th>\n",
              "      <th>stars</th>\n",
              "    </tr>\n",
              "  </thead>\n",
              "  <tbody>\n",
              "    <tr>\n",
              "      <th>0</th>\n",
              "      <td>I could sit here and write all about the specs...</td>\n",
              "      <td>5</td>\n",
              "    </tr>\n",
              "    <tr>\n",
              "      <th>1</th>\n",
              "      <td>A very reasonably priced laptop for basic comp...</td>\n",
              "      <td>4</td>\n",
              "    </tr>\n",
              "    <tr>\n",
              "      <th>2</th>\n",
              "      <td>This is the best laptop deal you can get, full...</td>\n",
              "      <td>5</td>\n",
              "    </tr>\n",
              "    <tr>\n",
              "      <th>3</th>\n",
              "      <td>A few months after the purchase....It is still...</td>\n",
              "      <td>5</td>\n",
              "    </tr>\n",
              "    <tr>\n",
              "      <th>4</th>\n",
              "      <td>BUYER BE AWARE: This computer has Microsoft 10...</td>\n",
              "      <td>1</td>\n",
              "    </tr>\n",
              "  </tbody>\n",
              "</table>\n",
              "</div>"
            ],
            "text/plain": [
              "                                             comment  stars\n",
              "0  I could sit here and write all about the specs...      5\n",
              "1  A very reasonably priced laptop for basic comp...      4\n",
              "2  This is the best laptop deal you can get, full...      5\n",
              "3  A few months after the purchase....It is still...      5\n",
              "4  BUYER BE AWARE: This computer has Microsoft 10...      1"
            ]
          },
          "metadata": {
            "tags": []
          },
          "execution_count": 4
        }
      ]
    },
    {
      "cell_type": "code",
      "metadata": {
        "id": "PfljQ4s-OviO"
      },
      "source": [
        "# Tokenizer instantiation\n",
        "tokenizer = RegexpTokenizer(r\"\\w+[a-zA-Z]\")"
      ],
      "execution_count": null,
      "outputs": []
    },
    {
      "cell_type": "code",
      "metadata": {
        "id": "hPwu_PD6CxVK"
      },
      "source": [
        "# Remove numeric characters\n",
        "def remove_nums(text):\n",
        "  text = re.sub(\"\\d+\", \" \", text)\n",
        "  return text\n",
        "\n",
        "# Remove stop words\n",
        "def remove_stopwords(text):\n",
        "  stoplist = stopwords.words('english')\n",
        "  not_stopwords = {'no', 'not'} # should not remove these if doing sentiment analysis\n",
        "  stoplist = set([word for word in stoplist if word not in not_stopwords])\n",
        "  words = [w for w in text if w not in stoplist]\n",
        "  return words\n",
        "\n",
        "# Lemmatization\n",
        "lemmatizer = WordNetLemmatizer() \n",
        "def lemmatize(text):\n",
        "  lem_text = [lemmatizer.lemmatize(i) for i in text]\n",
        "  return lem_text\n",
        "\n",
        "# Convert accented characters to ascii\n",
        "def remove_accents(text):\n",
        "  text = unidecode.unidecode(text)\n",
        "  return text\n",
        "\n",
        "def join_words(text):\n",
        "  return ' '.join([word for word in text]).strip()"
      ],
      "execution_count": null,
      "outputs": []
    },
    {
      "cell_type": "code",
      "metadata": {
        "id": "jxye8aLpPAHW"
      },
      "source": [
        "# Perform preprocessing for all comments\n",
        "df['comment'] = df['comment'].apply(lambda x: remove_accents(x))\n",
        "df['comment'] = df['comment'].apply(lambda x: remove_nums(x))\n",
        "df['comment'] = df['comment'].apply(lambda x: tokenizer.tokenize(x.lower())) # tokenizes and convert to lowercase\n",
        "df['comment'] = df['comment'].apply(lambda x: remove_stopwords(x))\n",
        "df['comment'] = df['comment'].apply(lambda x: lemmatize(x))\n",
        "df['comment'] = df['comment'].apply(lambda x: join_words(x))"
      ],
      "execution_count": null,
      "outputs": []
    },
    {
      "cell_type": "code",
      "metadata": {
        "id": "-7juJrAvqDJB",
        "colab": {
          "base_uri": "https://localhost:8080/",
          "height": 191
        },
        "outputId": "d1bd4a33-6d10-4c6a-dfcf-7ff95f3ecd74"
      },
      "source": [
        "df.head()"
      ],
      "execution_count": null,
      "outputs": [
        {
          "output_type": "execute_result",
          "data": {
            "text/html": [
              "<div>\n",
              "<style scoped>\n",
              "    .dataframe tbody tr th:only-of-type {\n",
              "        vertical-align: middle;\n",
              "    }\n",
              "\n",
              "    .dataframe tbody tr th {\n",
              "        vertical-align: top;\n",
              "    }\n",
              "\n",
              "    .dataframe thead th {\n",
              "        text-align: right;\n",
              "    }\n",
              "</style>\n",
              "<table border=\"1\" class=\"dataframe\">\n",
              "  <thead>\n",
              "    <tr style=\"text-align: right;\">\n",
              "      <th></th>\n",
              "      <th>comment</th>\n",
              "      <th>stars</th>\n",
              "    </tr>\n",
              "  </thead>\n",
              "  <tbody>\n",
              "    <tr>\n",
              "      <th>0</th>\n",
              "      <td>could sit write spec computer already descript...</td>\n",
              "      <td>5</td>\n",
              "    </tr>\n",
              "    <tr>\n",
              "      <th>1</th>\n",
              "      <td>reasonably priced laptop basic computing need ...</td>\n",
              "      <td>4</td>\n",
              "    </tr>\n",
              "    <tr>\n",
              "      <th>2</th>\n",
              "      <td>best laptop deal get full stop touchescreen no...</td>\n",
              "      <td>5</td>\n",
              "    </tr>\n",
              "    <tr>\n",
              "      <th>3</th>\n",
              "      <td>month purchase still running good bought colle...</td>\n",
              "      <td>5</td>\n",
              "    </tr>\n",
              "    <tr>\n",
              "      <th>4</th>\n",
              "      <td>buyer aware computer microsoft scam software m...</td>\n",
              "      <td>1</td>\n",
              "    </tr>\n",
              "  </tbody>\n",
              "</table>\n",
              "</div>"
            ],
            "text/plain": [
              "                                             comment  stars\n",
              "0  could sit write spec computer already descript...      5\n",
              "1  reasonably priced laptop basic computing need ...      4\n",
              "2  best laptop deal get full stop touchescreen no...      5\n",
              "3  month purchase still running good bought colle...      5\n",
              "4  buyer aware computer microsoft scam software m...      1"
            ]
          },
          "metadata": {
            "tags": []
          },
          "execution_count": 8
        }
      ]
    },
    {
      "cell_type": "markdown",
      "metadata": {
        "id": "B0p0Abyju3iT"
      },
      "source": [
        "## Train/Test Split\n",
        "Split the dataset into training and testing sets."
      ]
    },
    {
      "cell_type": "code",
      "metadata": {
        "id": "6R4CqyQMY3vI"
      },
      "source": [
        "TEST_SIZE = 0.2"
      ],
      "execution_count": null,
      "outputs": []
    },
    {
      "cell_type": "code",
      "metadata": {
        "id": "fP9HLK63sdji",
        "colab": {
          "base_uri": "https://localhost:8080/"
        },
        "outputId": "7fa7e508-6aaf-4133-b272-abf73db8b4d9"
      },
      "source": [
        "train_dataset, test_dataset = train_test_split(df, test_size=TEST_SIZE, random_state=1)\n",
        "\n",
        "train_dataset = train_dataset.reset_index(drop=True)\n",
        "test_dataset = test_dataset.reset_index(drop=True)\n",
        "\n",
        "print(\"# of samples in train set: {}\".format(len(train_dataset)))\n",
        "print(\"# of samples in test set: {}\".format(len(test_dataset)))"
      ],
      "execution_count": null,
      "outputs": [
        {
          "output_type": "stream",
          "text": [
            "# of samples in train set: 156612\n",
            "# of samples in test set: 39153\n"
          ],
          "name": "stdout"
        }
      ]
    },
    {
      "cell_type": "markdown",
      "metadata": {
        "id": "HmnDcIbRGln6"
      },
      "source": [
        "Initialize TF-IDF and Bag-of-Words vectorizers to generate vector representations of each review. "
      ]
    },
    {
      "cell_type": "code",
      "metadata": {
        "id": "vAqxgCmFHNPl"
      },
      "source": [
        "# For Multinomial Naive Bayes\n",
        "tfidf_vectorizer = TfidfVectorizer(\n",
        "    stop_words = 'english',\n",
        "    max_features=5000\n",
        ")\n",
        "\n",
        "# Bag-of-words representation for Logistic Regression and Multinomial Naive Bayes\n",
        "count_vectorizer = CountVectorizer(\n",
        "    stop_words='english',\n",
        "    max_features=5000\n",
        ")"
      ],
      "execution_count": null,
      "outputs": []
    },
    {
      "cell_type": "markdown",
      "metadata": {
        "id": "vjf_yuWFHff3"
      },
      "source": [
        "Define the function to plot the confusion matrix."
      ]
    },
    {
      "cell_type": "code",
      "metadata": {
        "id": "JHqheUPVIsoE"
      },
      "source": [
        "def plot_confusion_matrix(y_test, y_pred, title='Confusion Matrix'):\n",
        "  cnf_matrix = confusion_matrix(y_test, y_pred, labels=[1,2,3,4,5])\n",
        "  np.set_printoptions(precision=2)\n",
        "\n",
        "  plt.figure()\n",
        "  plot(cnf_matrix, classes=[1,2,3,4,5],\n",
        "        title=title)\n",
        "\n",
        "def plot(cm, classes,\n",
        "        normalize=False,\n",
        "        title='Confusion Matrix',\n",
        "        cmap=plt.cm.Blues):\n",
        "    \"\"\"\n",
        "    This function prints and plots the confusion matrix.\n",
        "    Normalization can be applied by setting `normalize=True`.\n",
        "    \"\"\"\n",
        "    import itertools\n",
        "    if normalize:\n",
        "        cm = cm.astype('float') / cm.sum(axis=1)[:, np.newaxis]\n",
        "        print(\"Normalized confusion matrix\")\n",
        "    else:\n",
        "        print('Confusion matrix')\n",
        "\n",
        "    print(cm)\n",
        "    print('\\n', sep='')\n",
        "\n",
        "    plt.imshow(cm, interpolation='nearest', cmap=cmap)\n",
        "    plt.title(title)\n",
        "    plt.colorbar()\n",
        "    tick_marks = np.arange(len(classes))\n",
        "    plt.xticks(tick_marks, classes, rotation=45)\n",
        "    plt.yticks(tick_marks, classes)\n",
        "\n",
        "    fmt = '.2f' if normalize else 'd'\n",
        "    thresh = cm.max() / 2.\n",
        "    for i, j in itertools.product(range(cm.shape[0]), range(cm.shape[1])):\n",
        "        plt.text(j, i, format(cm[i, j], fmt),\n",
        "                 horizontalalignment=\"center\",\n",
        "                 color=\"white\" if cm[i, j] > thresh else \"black\")\n",
        "\n",
        "    plt.ylabel('True label')\n",
        "    plt.xlabel('Predicted label')\n",
        "    plt.tight_layout()"
      ],
      "execution_count": null,
      "outputs": []
    },
    {
      "cell_type": "markdown",
      "metadata": {
        "id": "84oLfU8fG-cC"
      },
      "source": [
        "## Model Evaluation - Baselines"
      ]
    },
    {
      "cell_type": "code",
      "metadata": {
        "id": "qumtA1lxWg5f"
      },
      "source": [
        "y_train = train_dataset['stars']\n",
        "y_test = test_dataset['stars']"
      ],
      "execution_count": null,
      "outputs": []
    },
    {
      "cell_type": "markdown",
      "metadata": {
        "id": "-eKuB9IXHIVa"
      },
      "source": [
        "### 1. Majority Class\n",
        "Naive baseline that predicts all reviews to be of the majority class (5 stars)."
      ]
    },
    {
      "cell_type": "code",
      "metadata": {
        "colab": {
          "base_uri": "https://localhost:8080/"
        },
        "id": "P4Q6FILDG4Pe",
        "outputId": "d502a2a1-0fcd-402d-cb1e-f851e174a8ef"
      },
      "source": [
        "y_pred = np.full(shape=y_test.shape, fill_value=5, dtype=int)\n",
        "print(classification_report(y_test, y_pred, digits=4))"
      ],
      "execution_count": null,
      "outputs": [
        {
          "output_type": "stream",
          "text": [
            "              precision    recall  f1-score   support\n",
            "\n",
            "           1     0.0000    0.0000    0.0000      3567\n",
            "           2     0.0000    0.0000    0.0000      1821\n",
            "           3     0.0000    0.0000    0.0000      2176\n",
            "           4     0.0000    0.0000    0.0000      4508\n",
            "           5     0.6917    1.0000    0.8177     27081\n",
            "\n",
            "    accuracy                         0.6917     39153\n",
            "   macro avg     0.1383    0.2000    0.1635     39153\n",
            "weighted avg     0.4784    0.6917    0.5656     39153\n",
            "\n"
          ],
          "name": "stdout"
        },
        {
          "output_type": "stream",
          "text": [
            "/usr/local/lib/python3.6/dist-packages/sklearn/metrics/_classification.py:1272: UndefinedMetricWarning: Precision and F-score are ill-defined and being set to 0.0 in labels with no predicted samples. Use `zero_division` parameter to control this behavior.\n",
            "  _warn_prf(average, modifier, msg_start, len(result))\n"
          ],
          "name": "stderr"
        }
      ]
    },
    {
      "cell_type": "code",
      "metadata": {
        "colab": {
          "base_uri": "https://localhost:8080/",
          "height": 427
        },
        "id": "T0M_He13IWOH",
        "outputId": "dc214c68-287e-4d6b-ac21-785696e764d6"
      },
      "source": [
        "plot_confusion_matrix(y_test, y_pred, 'Confusion Matrix for MC')"
      ],
      "execution_count": null,
      "outputs": [
        {
          "output_type": "stream",
          "text": [
            "Confusion matrix\n",
            "[[    0     0     0     0  3567]\n",
            " [    0     0     0     0  1821]\n",
            " [    0     0     0     0  2176]\n",
            " [    0     0     0     0  4508]\n",
            " [    0     0     0     0 27081]]\n",
            "\n",
            "\n"
          ],
          "name": "stdout"
        },
        {
          "output_type": "display_data",
          "data": {
            "image/png": "[encoded data removed]",
            "text/plain": [
              "<Figure size 432x288 with 2 Axes>"
            ]
          },
          "metadata": {
            "tags": [],
            "needs_background": "light"
          }
        }
      ]
    },
    {
      "cell_type": "markdown",
      "metadata": {
        "id": "IYqv82UKYZ_d"
      },
      "source": [
        "### 2. Multinomial Naive Bayes with BOW\n",
        "Multinomial Naive Bayes using bag-of-words representation for sentence vectors."
      ]
    },
    {
      "cell_type": "code",
      "metadata": {
        "id": "G3RIZJE7YZ_e"
      },
      "source": [
        "X_train = count_vectorizer.fit_transform(train_dataset['comment'])\n",
        "X_test = count_vectorizer.fit_transform(test_dataset['comment'])"
      ],
      "execution_count": null,
      "outputs": []
    },
    {
      "cell_type": "code",
      "metadata": {
        "id": "OnqC0wg1YZ_e"
      },
      "source": [
        "mnb = MultinomialNB()\n",
        "model = mnb.fit(X_train, y_train)"
      ],
      "execution_count": null,
      "outputs": []
    },
    {
      "cell_type": "code",
      "metadata": {
        "colab": {
          "base_uri": "https://localhost:8080/"
        },
        "id": "NVxbjA6_YZ_e",
        "outputId": "c1e786be-a411-4fb2-cc7f-2ce2a2d92483"
      },
      "source": [
        "y_pred = model.predict(X_test)\n",
        "print(classification_report(y_test, y_pred, digits=4))"
      ],
      "execution_count": null,
      "outputs": [
        {
          "output_type": "stream",
          "text": [
            "              precision    recall  f1-score   support\n",
            "\n",
            "           1     0.1286    0.0914    0.1069      3567\n",
            "           2     0.0769    0.0588    0.0666      1821\n",
            "           3     0.0905    0.2036    0.1253      2176\n",
            "           4     0.1490    0.1493    0.1492      4508\n",
            "           5     0.7372    0.7027    0.7195     27081\n",
            "\n",
            "    accuracy                         0.5256     39153\n",
            "   macro avg     0.2364    0.2411    0.2335     39153\n",
            "weighted avg     0.5474    0.5256    0.5346     39153\n",
            "\n"
          ],
          "name": "stdout"
        }
      ]
    },
    {
      "cell_type": "code",
      "metadata": {
        "colab": {
          "base_uri": "https://localhost:8080/",
          "height": 427
        },
        "id": "5cKKIl8sYZ_f",
        "outputId": "74ce32ba-1978-4127-b7f4-394c214c863b"
      },
      "source": [
        "plot_confusion_matrix(y_test, y_pred, 'Confusion Matrix for MNB + BOW')"
      ],
      "execution_count": null,
      "outputs": [
        {
          "output_type": "stream",
          "text": [
            "Confusion matrix\n",
            "[[  326   198   630   400  2013]\n",
            " [  135   107   385   267   927]\n",
            " [  135   115   443   286  1197]\n",
            " [  248   199   741   673  2647]\n",
            " [ 1691   773  2698  2890 19029]]\n",
            "\n",
            "\n"
          ],
          "name": "stdout"
        },
        {
          "output_type": "display_data",
          "data": {
            "image/png": "[encoded data removed]",
            "text/plain": [
              "<Figure size 432x288 with 2 Axes>"
            ]
          },
          "metadata": {
            "tags": [],
            "needs_background": "light"
          }
        }
      ]
    },
    {
      "cell_type": "markdown",
      "metadata": {
        "id": "5SOm-hcJIz_s"
      },
      "source": [
        "### 3. Multinomial Naive Bayes with TF-IDF\n",
        "Multinomial Naive Bayes using TF-IDF representation for sentence vectors."
      ]
    },
    {
      "cell_type": "code",
      "metadata": {
        "id": "st-gl1UdJCmg"
      },
      "source": [
        "X_train = tfidf_vectorizer.fit_transform(train_dataset['comment'])\n",
        "X_test = tfidf_vectorizer.fit_transform(test_dataset['comment'])"
      ],
      "execution_count": null,
      "outputs": []
    },
    {
      "cell_type": "code",
      "metadata": {
        "id": "XPiHk6DrJJ3D"
      },
      "source": [
        "mnb = MultinomialNB()\n",
        "model = mnb.fit(X_train, y_train)"
      ],
      "execution_count": null,
      "outputs": []
    },
    {
      "cell_type": "code",
      "metadata": {
        "colab": {
          "base_uri": "https://localhost:8080/"
        },
        "id": "pmz_utUVJPR3",
        "outputId": "774f03c9-9223-430f-ec65-b40d7b9fbee2"
      },
      "source": [
        "y_pred = model.predict(X_test)\n",
        "print(classification_report(y_test, y_pred, digits=4))"
      ],
      "execution_count": null,
      "outputs": [
        {
          "output_type": "stream",
          "text": [
            "              precision    recall  f1-score   support\n",
            "\n",
            "           1     0.1654    0.0634    0.0916      3567\n",
            "           2     0.0748    0.0242    0.0365      1821\n",
            "           3     0.1088    0.0515    0.0699      2176\n",
            "           4     0.1842    0.0419    0.0683      4508\n",
            "           5     0.7082    0.9191    0.8000     27081\n",
            "\n",
            "    accuracy                         0.6503     39153\n",
            "   macro avg     0.2483    0.2200    0.2133     39153\n",
            "weighted avg     0.5357    0.6503    0.5751     39153\n",
            "\n"
          ],
          "name": "stdout"
        }
      ]
    },
    {
      "cell_type": "code",
      "metadata": {
        "colab": {
          "base_uri": "https://localhost:8080/",
          "height": 427
        },
        "id": "XqHQNRizJPR3",
        "outputId": "fee2b138-aaac-4cc4-f89d-e55b8d543ae8"
      },
      "source": [
        "plot_confusion_matrix(y_test, y_pred, 'Confusion Matrix for MNB + TF-IDF')"
      ],
      "execution_count": null,
      "outputs": [
        {
          "output_type": "stream",
          "text": [
            "Confusion matrix\n",
            "[[  226    74   189    81  2997]\n",
            " [  105    44   100    80  1492]\n",
            " [   81    45   112    77  1861]\n",
            " [  150    97   168   189  3904]\n",
            " [  804   328   460   599 24890]]\n",
            "\n",
            "\n"
          ],
          "name": "stdout"
        },
        {
          "output_type": "display_data",
          "data": {
            "image/png": "[encoded data removed]",
            "text/plain": [
              "<Figure size 432x288 with 2 Axes>"
            ]
          },
          "metadata": {
            "tags": [],
            "needs_background": "light"
          }
        }
      ]
    },
    {
      "cell_type": "markdown",
      "metadata": {
        "id": "m_ljuhlOJ8Bm"
      },
      "source": [
        "### 4. Logistic Regression with BOW\n",
        "Logistic Regression using bag-of-words representation for sentence vectors."
      ]
    },
    {
      "cell_type": "code",
      "metadata": {
        "id": "eVx029iwJ8Bm"
      },
      "source": [
        "X_train = count_vectorizer.fit_transform(train_dataset['comment'])\n",
        "X_test = count_vectorizer.fit_transform(test_dataset['comment'])"
      ],
      "execution_count": null,
      "outputs": []
    },
    {
      "cell_type": "code",
      "metadata": {
        "id": "OcveH8aiJ8Bm"
      },
      "source": [
        "lr = LogisticRegression(max_iter=1000)\n",
        "model = lr.fit(X_train, y_train)"
      ],
      "execution_count": null,
      "outputs": []
    },
    {
      "cell_type": "code",
      "metadata": {
        "colab": {
          "base_uri": "https://localhost:8080/"
        },
        "id": "O8Ys9dxPJ8Bm",
        "outputId": "d4a22f6c-d099-43df-9a35-e30f20eaf2ea"
      },
      "source": [
        "y_pred = model.predict(X_test)\n",
        "print(classification_report(y_test, y_pred, digits=4))"
      ],
      "execution_count": null,
      "outputs": [
        {
          "output_type": "stream",
          "text": [
            "              precision    recall  f1-score   support\n",
            "\n",
            "           1     0.1068    0.1102    0.1085      3567\n",
            "           2     0.0876    0.0308    0.0455      1821\n",
            "           3     0.0904    0.0666    0.0767      2176\n",
            "           4     0.1322    0.0739    0.0948      4508\n",
            "           5     0.7120    0.8075    0.7567     27081\n",
            "\n",
            "    accuracy                         0.5822     39153\n",
            "   macro avg     0.2258    0.2178    0.2164     39153\n",
            "weighted avg     0.5265    0.5822    0.5506     39153\n",
            "\n"
          ],
          "name": "stdout"
        }
      ]
    },
    {
      "cell_type": "code",
      "metadata": {
        "colab": {
          "base_uri": "https://localhost:8080/",
          "height": 427
        },
        "id": "w3ubb-DzJ8Bm",
        "outputId": "d10a579c-f97d-4391-c78a-46c66380780a"
      },
      "source": [
        "plot_confusion_matrix(y_test, y_pred, 'Confusion Matrix for LR + BOW')"
      ],
      "execution_count": null,
      "outputs": [
        {
          "output_type": "stream",
          "text": [
            "Confusion matrix\n",
            "[[  393    99   226   209  2640]\n",
            " [  226    56   128   164  1247]\n",
            " [  236    56   145   129  1610]\n",
            " [  499    92   235   333  3349]\n",
            " [ 2325   336   870  1683 21867]]\n",
            "\n",
            "\n"
          ],
          "name": "stdout"
        },
        {
          "output_type": "display_data",
          "data": {
            "image/png": "[encoded data removed]",
            "text/plain": [
              "<Figure size 432x288 with 2 Axes>"
            ]
          },
          "metadata": {
            "tags": [],
            "needs_background": "light"
          }
        }
      ]
    },
    {
      "cell_type": "markdown",
      "metadata": {
        "id": "oCXcP3pnNjkO"
      },
      "source": [
        "## Model Evaluation - BERT Variants"
      ]
    },
    {
      "cell_type": "markdown",
      "metadata": {
        "id": "Jabo5drrODxx"
      },
      "source": [
        "### 5. BERT (Regular)"
      ]
    },
    {
      "cell_type": "code",
      "metadata": {
        "id": "BrZDzZJ2OqZM"
      },
      "source": [
        "df = pd.read_csv('https://raw.githubusercontent.com/csbanon/bert-product-rating-predictor/master/data/predictions_test.csv')"
      ],
      "execution_count": null,
      "outputs": []
    },
    {
      "cell_type": "code",
      "metadata": {
        "colab": {
          "base_uri": "https://localhost:8080/"
        },
        "id": "tFfwYCq0N6iG",
        "outputId": "eea18fd1-7d3c-4f58-982a-7d7160aacba3"
      },
      "source": [
        "y_pred = df['prediction'].tolist()\n",
        "print(classification_report(y_test, y_pred, digits=4))"
      ],
      "execution_count": null,
      "outputs": [
        {
          "output_type": "stream",
          "text": [
            "              precision    recall  f1-score   support\n",
            "\n",
            "           1     0.6903    0.7404    0.7145      3567\n",
            "           2     0.3819    0.1812    0.2458      1821\n",
            "           3     0.3679    0.4026    0.3845      2176\n",
            "           4     0.5133    0.3305    0.4021      4508\n",
            "           5     0.8925    0.9616    0.9258     27081\n",
            "\n",
            "    accuracy                         0.8014     39153\n",
            "   macro avg     0.5692    0.5233    0.5345     39153\n",
            "weighted avg     0.7775    0.8014    0.7845     39153\n",
            "\n"
          ],
          "name": "stdout"
        }
      ]
    },
    {
      "cell_type": "code",
      "metadata": {
        "colab": {
          "base_uri": "https://localhost:8080/",
          "height": 427
        },
        "id": "hNXNAQzqU1ef",
        "outputId": "57315116-862b-4d66-f6bf-1e71952caf13"
      },
      "source": [
        "plot_confusion_matrix(y_test, y_pred, 'Confusion Matrix for BERT + CE')"
      ],
      "execution_count": null,
      "outputs": [
        {
          "output_type": "stream",
          "text": [
            "Confusion matrix\n",
            "[[ 2641   314   352    75   185]\n",
            " [  658   330   577   139   117]\n",
            " [  288   184   876   479   349]\n",
            " [  104    24   404  1490  2486]\n",
            " [  135    12   172   720 26042]]\n",
            "\n",
            "\n"
          ],
          "name": "stdout"
        },
        {
          "output_type": "display_data",
          "data": {
            "image/png": "[encoded data removed]",
            "text/plain": [
              "<Figure size 432x288 with 2 Axes>"
            ]
          },
          "metadata": {
            "tags": [],
            "needs_background": "light"
          }
        }
      ]
    },
    {
      "cell_type": "markdown",
      "metadata": {
        "id": "9sH9u2hqOedM"
      },
      "source": [
        "### 6. BERT with Weighted Cross Entropy Loss"
      ]
    },
    {
      "cell_type": "code",
      "metadata": {
        "id": "tiQC6fYNOs4u"
      },
      "source": [
        "df = pd.read_csv('https://raw.githubusercontent.com/csbanon/bert-product-rating-predictor/master/data/predictions_test_weighted.csv')"
      ],
      "execution_count": null,
      "outputs": []
    },
    {
      "cell_type": "code",
      "metadata": {
        "colab": {
          "base_uri": "https://localhost:8080/"
        },
        "id": "MiWYh1VIOedM",
        "outputId": "e553a3f0-ac87-41ca-82a5-310ca864661c"
      },
      "source": [
        "y_pred = df['prediction'].tolist()\n",
        "print(classification_report(y_test, y_pred, digits=4))"
      ],
      "execution_count": null,
      "outputs": [
        {
          "output_type": "stream",
          "text": [
            "              precision    recall  f1-score   support\n",
            "\n",
            "           1     0.6921    0.7171    0.7044      3567\n",
            "           2     0.3457    0.3427    0.3442      1821\n",
            "           3     0.2802    0.5579    0.3730      2176\n",
            "           4     0.2990    0.4583    0.3619      4508\n",
            "           5     0.9470    0.7837    0.8577     27081\n",
            "\n",
            "    accuracy                         0.7071     39153\n",
            "   macro avg     0.5128    0.5719    0.5282     39153\n",
            "weighted avg     0.7842    0.7071    0.7358     39153\n",
            "\n"
          ],
          "name": "stdout"
        }
      ]
    },
    {
      "cell_type": "code",
      "metadata": {
        "colab": {
          "base_uri": "https://localhost:8080/",
          "height": 427
        },
        "id": "clzHWhoFOedN",
        "outputId": "58bdb100-0f4e-4d5d-d8b4-7d9fc239e8ae"
      },
      "source": [
        "plot_confusion_matrix(y_test, y_pred, 'Confusion Matrix for BERT + WCE')"
      ],
      "execution_count": null,
      "outputs": [
        {
          "output_type": "stream",
          "text": [
            "Confusion matrix\n",
            "[[ 2558   574   354    27    54]\n",
            " [  599   624   532    30    36]\n",
            " [  245   414  1214   212    91]\n",
            " [   98   119  1219  2066  1006]\n",
            " [  196    74  1014  4574 21223]]\n",
            "\n",
            "\n"
          ],
          "name": "stdout"
        },
        {
          "output_type": "display_data",
          "data": {
            "image/png": "[encoded data removed]",
            "text/plain": [
              "<Figure size 432x288 with 2 Axes>"
            ]
          },
          "metadata": {
            "tags": [],
            "needs_background": "light"
          }
        }
      ]
    },
    {
      "cell_type": "code",
      "metadata": {
        "id": "U5Z2OYvBXMIt"
      },
      "source": [
        ""
      ],
      "execution_count": null,
      "outputs": []
    }
  ]
}