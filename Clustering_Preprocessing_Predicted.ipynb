{
  "nbformat": 4,
  "nbformat_minor": 0,
  "metadata": {
    "colab": {
      "name": "Clustering_Preprocessing_Predicted.ipynb",
      "provenance": [],
      "authorship_tag": "ABX9TyOTQNbvhy45P2DCcQaYMg9C",
      "include_colab_link": true
    },
    "kernelspec": {
      "name": "python3",
      "display_name": "Python 3"
    }
  },
  "cells": [
    {
      "cell_type": "markdown",
      "metadata": {
        "id": "view-in-github",
        "colab_type": "text"
      },
      "source": [
        "<a href=\"https://colab.research.google.com/github/csbanon/bert-product-rating-predictor/blob/master/Clustering_Preprocessing_Predicted.ipynb\" target=\"_parent\"><img src=\"https://colab.research.google.com/assets/colab-badge.svg\" alt=\"Open In Colab\"/></a>"
      ]
    },
    {
      "cell_type": "code",
      "metadata": {
        "id": "XS2Zz15HSBUx"
      },
      "source": [
        "# Imports\n",
        "import numpy as np\n",
        "import pandas as pd"
      ],
      "execution_count": 1,
      "outputs": []
    },
    {
      "cell_type": "code",
      "metadata": {
        "id": "_YXHkkBYRtEi",
        "colab": {
          "base_uri": "https://localhost:8080/",
          "height": 204
        },
        "outputId": "dc396d4e-bb66-4d90-804c-475d16578936"
      },
      "source": [
        "# Create a dataframe of all reviews (with comments and star ratings only)\n",
        "github_url = 'https://raw.githubusercontent.com/csbanon/bert-product-rating-predictor/master/data/predictions.csv'\n",
        "df = pd.read_csv(github_url)\n",
        "df = df[['review', 'prediction']]\n",
        "df.head()"
      ],
      "execution_count": 2,
      "outputs": [
        {
          "output_type": "execute_result",
          "data": {
            "text/html": [
              "<div>\n",
              "<style scoped>\n",
              "    .dataframe tbody tr th:only-of-type {\n",
              "        vertical-align: middle;\n",
              "    }\n",
              "\n",
              "    .dataframe tbody tr th {\n",
              "        vertical-align: top;\n",
              "    }\n",
              "\n",
              "    .dataframe thead th {\n",
              "        text-align: right;\n",
              "    }\n",
              "</style>\n",
              "<table border=\"1\" class=\"dataframe\">\n",
              "  <thead>\n",
              "    <tr style=\"text-align: right;\">\n",
              "      <th></th>\n",
              "      <th>review</th>\n",
              "      <th>prediction</th>\n",
              "    </tr>\n",
              "  </thead>\n",
              "  <tbody>\n",
              "    <tr>\n",
              "      <th>0</th>\n",
              "      <td>Simple to place in not a fan of the pull arm s...</td>\n",
              "      <td>5</td>\n",
              "    </tr>\n",
              "    <tr>\n",
              "      <th>1</th>\n",
              "      <td>Its nice.  A small little dock for two control...</td>\n",
              "      <td>1</td>\n",
              "    </tr>\n",
              "    <tr>\n",
              "      <th>2</th>\n",
              "      <td>I really like these, purchased one for each ga...</td>\n",
              "      <td>5</td>\n",
              "    </tr>\n",
              "    <tr>\n",
              "      <th>3</th>\n",
              "      <td>I have several Ring products and this one inte...</td>\n",
              "      <td>5</td>\n",
              "    </tr>\n",
              "    <tr>\n",
              "      <th>4</th>\n",
              "      <td>Bought this in hopes of using it out on RZR ri...</td>\n",
              "      <td>5</td>\n",
              "    </tr>\n",
              "  </tbody>\n",
              "</table>\n",
              "</div>"
            ],
            "text/plain": [
              "                                              review  prediction\n",
              "0  Simple to place in not a fan of the pull arm s...           5\n",
              "1  Its nice.  A small little dock for two control...           1\n",
              "2  I really like these, purchased one for each ga...           5\n",
              "3  I have several Ring products and this one inte...           5\n",
              "4  Bought this in hopes of using it out on RZR ri...           5"
            ]
          },
          "metadata": {
            "tags": []
          },
          "execution_count": 2
        }
      ]
    },
    {
      "cell_type": "code",
      "metadata": {
        "id": "d7dAO6YwSUAb",
        "colab": {
          "base_uri": "https://localhost:8080/",
          "height": 204
        },
        "outputId": "131ef4d5-de34-4417-8ae0-197d465fc29d"
      },
      "source": [
        "# Create review dataframes for each category of star rating\n",
        "df1 = df[df['prediction']==1]\n",
        "df2 = df[df['prediction']==2]\n",
        "df3 = df[df['prediction']==3]\n",
        "df4 = df[df['prediction']==4]\n",
        "df5 = df[df['prediction']==5]\n",
        "\n",
        "df1.head()"
      ],
      "execution_count": 3,
      "outputs": [
        {
          "output_type": "execute_result",
          "data": {
            "text/html": [
              "<div>\n",
              "<style scoped>\n",
              "    .dataframe tbody tr th:only-of-type {\n",
              "        vertical-align: middle;\n",
              "    }\n",
              "\n",
              "    .dataframe tbody tr th {\n",
              "        vertical-align: top;\n",
              "    }\n",
              "\n",
              "    .dataframe thead th {\n",
              "        text-align: right;\n",
              "    }\n",
              "</style>\n",
              "<table border=\"1\" class=\"dataframe\">\n",
              "  <thead>\n",
              "    <tr style=\"text-align: right;\">\n",
              "      <th></th>\n",
              "      <th>review</th>\n",
              "      <th>prediction</th>\n",
              "    </tr>\n",
              "  </thead>\n",
              "  <tbody>\n",
              "    <tr>\n",
              "      <th>1</th>\n",
              "      <td>Its nice.  A small little dock for two control...</td>\n",
              "      <td>1</td>\n",
              "    </tr>\n",
              "    <tr>\n",
              "      <th>5</th>\n",
              "      <td>Perfecto, funciona al 100% y bastante entreten...</td>\n",
              "      <td>1</td>\n",
              "    </tr>\n",
              "    <tr>\n",
              "      <th>7</th>\n",
              "      <td>All the affordable webcams are sold out becaus...</td>\n",
              "      <td>1</td>\n",
              "    </tr>\n",
              "    <tr>\n",
              "      <th>14</th>\n",
              "      <td>I love the backlit keyboard. Good speed for we...</td>\n",
              "      <td>1</td>\n",
              "    </tr>\n",
              "    <tr>\n",
              "      <th>18</th>\n",
              "      <td>Stopped working after a couple months</td>\n",
              "      <td>1</td>\n",
              "    </tr>\n",
              "  </tbody>\n",
              "</table>\n",
              "</div>"
            ],
            "text/plain": [
              "                                               review  prediction\n",
              "1   Its nice.  A small little dock for two control...           1\n",
              "5   Perfecto, funciona al 100% y bastante entreten...           1\n",
              "7   All the affordable webcams are sold out becaus...           1\n",
              "14  I love the backlit keyboard. Good speed for we...           1\n",
              "18              Stopped working after a couple months           1"
            ]
          },
          "metadata": {
            "tags": []
          },
          "execution_count": 3
        }
      ]
    },
    {
      "cell_type": "code",
      "metadata": {
        "id": "jYFOkUtMs4mS",
        "colab": {
          "base_uri": "https://localhost:8080/"
        },
        "outputId": "00af4721-77ee-4cea-e517-cc2d815ec40b"
      },
      "source": [
        "# Required modules\n",
        "!pip install Unidecode\n",
        "!pip install word2number"
      ],
      "execution_count": 4,
      "outputs": [
        {
          "output_type": "stream",
          "text": [
            "Collecting Unidecode\n",
            "\u001b[?25l  Downloading https://files.pythonhosted.org/packages/d0/42/d9edfed04228bacea2d824904cae367ee9efd05e6cce7ceaaedd0b0ad964/Unidecode-1.1.1-py2.py3-none-any.whl (238kB)\n",
            "\r\u001b[K     |█▍                              | 10kB 13.8MB/s eta 0:00:01\r\u001b[K     |██▊                             | 20kB 10.7MB/s eta 0:00:01\r\u001b[K     |████▏                           | 30kB 8.5MB/s eta 0:00:01\r\u001b[K     |█████▌                          | 40kB 6.7MB/s eta 0:00:01\r\u001b[K     |██████▉                         | 51kB 4.4MB/s eta 0:00:01\r\u001b[K     |████████▎                       | 61kB 4.8MB/s eta 0:00:01\r\u001b[K     |█████████▋                      | 71kB 5.0MB/s eta 0:00:01\r\u001b[K     |███████████                     | 81kB 5.2MB/s eta 0:00:01\r\u001b[K     |████████████▍                   | 92kB 5.3MB/s eta 0:00:01\r\u001b[K     |█████████████▊                  | 102kB 4.3MB/s eta 0:00:01\r\u001b[K     |███████████████▏                | 112kB 4.3MB/s eta 0:00:01\r\u001b[K     |████████████████▌               | 122kB 4.3MB/s eta 0:00:01\r\u001b[K     |█████████████████▉              | 133kB 4.3MB/s eta 0:00:01\r\u001b[K     |███████████████████▎            | 143kB 4.3MB/s eta 0:00:01\r\u001b[K     |████████████████████▋           | 153kB 4.3MB/s eta 0:00:01\r\u001b[K     |██████████████████████          | 163kB 4.3MB/s eta 0:00:01\r\u001b[K     |███████████████████████▍        | 174kB 4.3MB/s eta 0:00:01\r\u001b[K     |████████████████████████▊       | 184kB 4.3MB/s eta 0:00:01\r\u001b[K     |██████████████████████████▏     | 194kB 4.3MB/s eta 0:00:01\r\u001b[K     |███████████████████████████▌    | 204kB 4.3MB/s eta 0:00:01\r\u001b[K     |████████████████████████████▉   | 215kB 4.3MB/s eta 0:00:01\r\u001b[K     |██████████████████████████████▎ | 225kB 4.3MB/s eta 0:00:01\r\u001b[K     |███████████████████████████████▋| 235kB 4.3MB/s eta 0:00:01\r\u001b[K     |████████████████████████████████| 245kB 4.3MB/s \n",
            "\u001b[?25hInstalling collected packages: Unidecode\n",
            "Successfully installed Unidecode-1.1.1\n",
            "Collecting word2number\n",
            "  Downloading https://files.pythonhosted.org/packages/4a/29/a31940c848521f0725f0df6b25dca8917f13a2025b0e8fcbe5d0457e45e6/word2number-1.1.zip\n",
            "Building wheels for collected packages: word2number\n",
            "  Building wheel for word2number (setup.py) ... \u001b[?25l\u001b[?25hdone\n",
            "  Created wheel for word2number: filename=word2number-1.1-cp36-none-any.whl size=5588 sha256=8a27a98a3d80430f1e23f83ada238f911892b870df8a187e3bb32aab53da8392\n",
            "  Stored in directory: /root/.cache/pip/wheels/46/2f/53/5f5c1d275492f2fce1cdab9a9bb12d49286dead829a4078e0e\n",
            "Successfully built word2number\n",
            "Installing collected packages: word2number\n",
            "Successfully installed word2number-1.1\n"
          ],
          "name": "stdout"
        }
      ]
    },
    {
      "cell_type": "code",
      "metadata": {
        "id": "F4B1q5UIfURl",
        "colab": {
          "base_uri": "https://localhost:8080/"
        },
        "outputId": "3896fa0b-6d88-47cf-bccb-a44a1818771a"
      },
      "source": [
        "# More imports\n",
        "import nltk\n",
        "nltk.download('stopwords')\n",
        "nltk.download('wordnet')\n",
        "from nltk.stem.wordnet import WordNetLemmatizer\n",
        "from nltk.stem.porter import PorterStemmer\n",
        "from nltk.corpus import stopwords\n",
        "from nltk.tokenize import RegexpTokenizer \n",
        "\n",
        "import string\n",
        "import unidecode\n",
        "import re\n",
        "import unidecode\n",
        "\n",
        "# !python -m spacy download en_core_web_md\n",
        "# import spacy\n",
        "# from word2number import w2n"
      ],
      "execution_count": 5,
      "outputs": [
        {
          "output_type": "stream",
          "text": [
            "[nltk_data] Downloading package stopwords to /root/nltk_data...\n",
            "[nltk_data]   Unzipping corpora/stopwords.zip.\n",
            "[nltk_data] Downloading package wordnet to /root/nltk_data...\n",
            "[nltk_data]   Unzipping corpora/wordnet.zip.\n"
          ],
          "name": "stdout"
        }
      ]
    },
    {
      "cell_type": "code",
      "metadata": {
        "id": "PfljQ4s-OviO"
      },
      "source": [
        "# Tokenizer instantiation\n",
        "tokenizer = RegexpTokenizer(r\"\\w+[a-zA-Z]\")"
      ],
      "execution_count": 6,
      "outputs": []
    },
    {
      "cell_type": "code",
      "metadata": {
        "id": "9sEso8FTCv0C"
      },
      "source": [
        "# TODO?: \n",
        "# Convert number words to numeric characters\n",
        "\n",
        "# load spacy model\n",
        "# nlp = spacy.load('en_core_web_md')\n",
        "\n",
        "# def words_to_nums(text):\n",
        "#   doc = nlp(text)\n",
        "#   tokens = [w2n.word_to_num(token.text) if token.pos_ == 'NUM' else token for token in doc]\n",
        "#   return tokens"
      ],
      "execution_count": 7,
      "outputs": []
    },
    {
      "cell_type": "code",
      "metadata": {
        "id": "hPwu_PD6CxVK"
      },
      "source": [
        "# Remove numeric characters\n",
        "def remove_nums(text):\n",
        "  text = re.sub(\"\\d+\", \" \", text)\n",
        "  return text"
      ],
      "execution_count": 8,
      "outputs": []
    },
    {
      "cell_type": "code",
      "metadata": {
        "id": "F0jRQdJ2OpVF"
      },
      "source": [
        "# Remove stop words\n",
        "def remove_stopwords(text):\n",
        "  stoplist = stopwords.words('english')\n",
        "  not_stopwords = {'no', 'not'} # should not remove these if doing sentiment analysis\n",
        "  stoplist = set([word for word in stoplist if word not in not_stopwords])\n",
        "  words = [w for w in text if w not in stoplist]\n",
        "  return words"
      ],
      "execution_count": 9,
      "outputs": []
    },
    {
      "cell_type": "code",
      "metadata": {
        "id": "wVY4RPLb0ho6"
      },
      "source": [
        "# Lemmatization\n",
        "lemmatizer = WordNetLemmatizer() \n",
        "def lemmatize(text):\n",
        "  lem_text = [lemmatizer.lemmatize(i) for i in text]\n",
        "  return lem_text"
      ],
      "execution_count": 10,
      "outputs": []
    },
    {
      "cell_type": "code",
      "metadata": {
        "id": "lffZyHvHO75v"
      },
      "source": [
        "# Convert accented characters to ascii\n",
        "def remove_accents(text):\n",
        "  text = unidecode.unidecode(text)\n",
        "  return text"
      ],
      "execution_count": 11,
      "outputs": []
    },
    {
      "cell_type": "code",
      "metadata": {
        "id": "jxye8aLpPAHW",
        "colab": {
          "base_uri": "https://localhost:8080/"
        },
        "outputId": "df3b1968-edf9-4571-8e1a-0f5ce35c4c7a"
      },
      "source": [
        "# Perform preprocessing for each category of star rating\n",
        "df_list = [df1, df2, df3, df4, df5]\n",
        "\n",
        "for frame in df_list:\n",
        "  frame['review'] = frame['review'].apply(lambda x: remove_accents(x))\n",
        "  frame['review'] = frame['review'].apply(lambda x: remove_nums(x))\n",
        "  frame['review'] = frame['review'].apply(lambda x: tokenizer.tokenize(x.lower())) # tokenizes and convert to lowercase\n",
        "  frame['review'] = frame['review'].apply(lambda x: remove_stopwords(x))\n",
        "  frame['review'] = frame['review'].apply(lambda x: lemmatize(x))"
      ],
      "execution_count": 12,
      "outputs": [
        {
          "output_type": "stream",
          "text": [
            "/usr/local/lib/python3.6/dist-packages/ipykernel_launcher.py:5: SettingWithCopyWarning: \n",
            "A value is trying to be set on a copy of a slice from a DataFrame.\n",
            "Try using .loc[row_indexer,col_indexer] = value instead\n",
            "\n",
            "See the caveats in the documentation: https://pandas.pydata.org/pandas-docs/stable/user_guide/indexing.html#returning-a-view-versus-a-copy\n",
            "  \"\"\"\n",
            "/usr/local/lib/python3.6/dist-packages/ipykernel_launcher.py:6: SettingWithCopyWarning: \n",
            "A value is trying to be set on a copy of a slice from a DataFrame.\n",
            "Try using .loc[row_indexer,col_indexer] = value instead\n",
            "\n",
            "See the caveats in the documentation: https://pandas.pydata.org/pandas-docs/stable/user_guide/indexing.html#returning-a-view-versus-a-copy\n",
            "  \n",
            "/usr/local/lib/python3.6/dist-packages/ipykernel_launcher.py:7: SettingWithCopyWarning: \n",
            "A value is trying to be set on a copy of a slice from a DataFrame.\n",
            "Try using .loc[row_indexer,col_indexer] = value instead\n",
            "\n",
            "See the caveats in the documentation: https://pandas.pydata.org/pandas-docs/stable/user_guide/indexing.html#returning-a-view-versus-a-copy\n",
            "  import sys\n",
            "/usr/local/lib/python3.6/dist-packages/ipykernel_launcher.py:8: SettingWithCopyWarning: \n",
            "A value is trying to be set on a copy of a slice from a DataFrame.\n",
            "Try using .loc[row_indexer,col_indexer] = value instead\n",
            "\n",
            "See the caveats in the documentation: https://pandas.pydata.org/pandas-docs/stable/user_guide/indexing.html#returning-a-view-versus-a-copy\n",
            "  \n",
            "/usr/local/lib/python3.6/dist-packages/ipykernel_launcher.py:9: SettingWithCopyWarning: \n",
            "A value is trying to be set on a copy of a slice from a DataFrame.\n",
            "Try using .loc[row_indexer,col_indexer] = value instead\n",
            "\n",
            "See the caveats in the documentation: https://pandas.pydata.org/pandas-docs/stable/user_guide/indexing.html#returning-a-view-versus-a-copy\n",
            "  if __name__ == '__main__':\n"
          ],
          "name": "stderr"
        }
      ]
    },
    {
      "cell_type": "code",
      "metadata": {
        "id": "-7juJrAvqDJB",
        "colab": {
          "base_uri": "https://localhost:8080/",
          "height": 204
        },
        "outputId": "6b79681d-0b62-43de-990a-16940fb81b1b"
      },
      "source": [
        "# Test\n",
        "df1.head()"
      ],
      "execution_count": 13,
      "outputs": [
        {
          "output_type": "execute_result",
          "data": {
            "text/html": [
              "<div>\n",
              "<style scoped>\n",
              "    .dataframe tbody tr th:only-of-type {\n",
              "        vertical-align: middle;\n",
              "    }\n",
              "\n",
              "    .dataframe tbody tr th {\n",
              "        vertical-align: top;\n",
              "    }\n",
              "\n",
              "    .dataframe thead th {\n",
              "        text-align: right;\n",
              "    }\n",
              "</style>\n",
              "<table border=\"1\" class=\"dataframe\">\n",
              "  <thead>\n",
              "    <tr style=\"text-align: right;\">\n",
              "      <th></th>\n",
              "      <th>review</th>\n",
              "      <th>prediction</th>\n",
              "    </tr>\n",
              "  </thead>\n",
              "  <tbody>\n",
              "    <tr>\n",
              "      <th>1</th>\n",
              "      <td>[nice, small, little, dock, two, controller, p...</td>\n",
              "      <td>1</td>\n",
              "    </tr>\n",
              "    <tr>\n",
              "      <th>5</th>\n",
              "      <td>[perfecto, funciona, al, bastante, entretenido]</td>\n",
              "      <td>1</td>\n",
              "    </tr>\n",
              "    <tr>\n",
              "      <th>7</th>\n",
              "      <td>[affordable, webcam, sold, almost, everyone, s...</td>\n",
              "      <td>1</td>\n",
              "    </tr>\n",
              "    <tr>\n",
              "      <th>14</th>\n",
              "      <td>[love, backlit, keyboard, good, speed, web, su...</td>\n",
              "      <td>1</td>\n",
              "    </tr>\n",
              "    <tr>\n",
              "      <th>18</th>\n",
              "      <td>[stopped, working, couple, month]</td>\n",
              "      <td>1</td>\n",
              "    </tr>\n",
              "  </tbody>\n",
              "</table>\n",
              "</div>"
            ],
            "text/plain": [
              "                                               review  prediction\n",
              "1   [nice, small, little, dock, two, controller, p...           1\n",
              "5     [perfecto, funciona, al, bastante, entretenido]           1\n",
              "7   [affordable, webcam, sold, almost, everyone, s...           1\n",
              "14  [love, backlit, keyboard, good, speed, web, su...           1\n",
              "18                  [stopped, working, couple, month]           1"
            ]
          },
          "metadata": {
            "tags": []
          },
          "execution_count": 13
        }
      ]
    },
    {
      "cell_type": "code",
      "metadata": {
        "id": "__lLsOY9z5vI",
        "colab": {
          "base_uri": "https://localhost:8080/",
          "height": 204
        },
        "outputId": "dc327377-2db9-45ed-af5c-334e13f37504"
      },
      "source": [
        "# Test\n",
        "df2.head()"
      ],
      "execution_count": 14,
      "outputs": [
        {
          "output_type": "execute_result",
          "data": {
            "text/html": [
              "<div>\n",
              "<style scoped>\n",
              "    .dataframe tbody tr th:only-of-type {\n",
              "        vertical-align: middle;\n",
              "    }\n",
              "\n",
              "    .dataframe tbody tr th {\n",
              "        vertical-align: top;\n",
              "    }\n",
              "\n",
              "    .dataframe thead th {\n",
              "        text-align: right;\n",
              "    }\n",
              "</style>\n",
              "<table border=\"1\" class=\"dataframe\">\n",
              "  <thead>\n",
              "    <tr style=\"text-align: right;\">\n",
              "      <th></th>\n",
              "      <th>review</th>\n",
              "      <th>prediction</th>\n",
              "    </tr>\n",
              "  </thead>\n",
              "  <tbody>\n",
              "    <tr>\n",
              "      <th>83</th>\n",
              "      <td>[great, product, really, comfortable, headphon...</td>\n",
              "      <td>2</td>\n",
              "    </tr>\n",
              "    <tr>\n",
              "      <th>94</th>\n",
              "      <td>[listened, review, connect, two, week, work, t...</td>\n",
              "      <td>2</td>\n",
              "    </tr>\n",
              "    <tr>\n",
              "      <th>196</th>\n",
              "      <td>[wow, beginning, scared, code, work, work, sup...</td>\n",
              "      <td>2</td>\n",
              "    </tr>\n",
              "    <tr>\n",
              "      <th>261</th>\n",
              "      <td>[love, ring, light]</td>\n",
              "      <td>2</td>\n",
              "    </tr>\n",
              "    <tr>\n",
              "      <th>314</th>\n",
              "      <td>[sound, quality, good, no, complaint, like, sl...</td>\n",
              "      <td>2</td>\n",
              "    </tr>\n",
              "  </tbody>\n",
              "</table>\n",
              "</div>"
            ],
            "text/plain": [
              "                                                review  prediction\n",
              "83   [great, product, really, comfortable, headphon...           2\n",
              "94   [listened, review, connect, two, week, work, t...           2\n",
              "196  [wow, beginning, scared, code, work, work, sup...           2\n",
              "261                                [love, ring, light]           2\n",
              "314  [sound, quality, good, no, complaint, like, sl...           2"
            ]
          },
          "metadata": {
            "tags": []
          },
          "execution_count": 14
        }
      ]
    },
    {
      "cell_type": "code",
      "metadata": {
        "id": "VBtHmRJx0DX4"
      },
      "source": [
        "# Test: Inspect one set of tokens for one review comment\n",
        "# stringg = df2.iloc[0:1,0:1]\n",
        "# stringg.to_csv('sample.csv')"
      ],
      "execution_count": 15,
      "outputs": []
    },
    {
      "cell_type": "code",
      "metadata": {
        "id": "XHRuV-sh4Thw",
        "colab": {
          "base_uri": "https://localhost:8080/",
          "height": 204
        },
        "outputId": "5d82ab4d-2923-4b19-87fc-ae333cb8fe2f"
      },
      "source": [
        "# Test\n",
        "df5.head()"
      ],
      "execution_count": 16,
      "outputs": [
        {
          "output_type": "execute_result",
          "data": {
            "text/html": [
              "<div>\n",
              "<style scoped>\n",
              "    .dataframe tbody tr th:only-of-type {\n",
              "        vertical-align: middle;\n",
              "    }\n",
              "\n",
              "    .dataframe tbody tr th {\n",
              "        vertical-align: top;\n",
              "    }\n",
              "\n",
              "    .dataframe thead th {\n",
              "        text-align: right;\n",
              "    }\n",
              "</style>\n",
              "<table border=\"1\" class=\"dataframe\">\n",
              "  <thead>\n",
              "    <tr style=\"text-align: right;\">\n",
              "      <th></th>\n",
              "      <th>review</th>\n",
              "      <th>prediction</th>\n",
              "    </tr>\n",
              "  </thead>\n",
              "  <tbody>\n",
              "    <tr>\n",
              "      <th>0</th>\n",
              "      <td>[simple, place, not, fan, pull, arm, style, fa...</td>\n",
              "      <td>5</td>\n",
              "    </tr>\n",
              "    <tr>\n",
              "      <th>2</th>\n",
              "      <td>[really, like, purchased, one, garage, door, w...</td>\n",
              "      <td>5</td>\n",
              "    </tr>\n",
              "    <tr>\n",
              "      <th>3</th>\n",
              "      <td>[several, ring, product, one, integrates, well...</td>\n",
              "      <td>5</td>\n",
              "    </tr>\n",
              "    <tr>\n",
              "      <th>4</th>\n",
              "      <td>[bought, hope, using, rzr, ride, unfortunately...</td>\n",
              "      <td>5</td>\n",
              "    </tr>\n",
              "    <tr>\n",
              "      <th>6</th>\n",
              "      <td>[no, scratch, crack, easily, protects, phone]</td>\n",
              "      <td>5</td>\n",
              "    </tr>\n",
              "  </tbody>\n",
              "</table>\n",
              "</div>"
            ],
            "text/plain": [
              "                                              review  prediction\n",
              "0  [simple, place, not, fan, pull, arm, style, fa...           5\n",
              "2  [really, like, purchased, one, garage, door, w...           5\n",
              "3  [several, ring, product, one, integrates, well...           5\n",
              "4  [bought, hope, using, rzr, ride, unfortunately...           5\n",
              "6      [no, scratch, crack, easily, protects, phone]           5"
            ]
          },
          "metadata": {
            "tags": []
          },
          "execution_count": 16
        }
      ]
    },
    {
      "cell_type": "code",
      "metadata": {
        "id": "ZDClXDgP2Q5U"
      },
      "source": [
        "# Create composite dataframe of tokens for all reviews, for all star ratings\n",
        "mega_df = pd.concat(objs=[df1,df2,df3,df4,df5])"
      ],
      "execution_count": 17,
      "outputs": []
    },
    {
      "cell_type": "code",
      "metadata": {
        "id": "jkRSUsKT38fP"
      },
      "source": [
        "# Save as csv files\n",
        "mega_df.to_csv('tokens_predicted_all.csv')\n",
        "\n",
        "for idx, frame in enumerate(df_list):\n",
        "  filename = 'tokens_predicted_'+str(idx+1)+'.csv'\n",
        "  frame.to_csv(filename)"
      ],
      "execution_count": 18,
      "outputs": []
    },
    {
      "cell_type": "markdown",
      "metadata": {
        "id": "yTB3CGE4Hshb"
      },
      "source": [
        "#References:\n",
        "1. https://towardsdatascience.com/nlp-text-preprocessing-a-practical-guide-and-template-d80874676e79\n",
        "2. https://towardsdatascience.com/nlp-for-beginners-cleaning-preprocessing-text-data-ae8e306bef0f"
      ]
    }
  ]
}