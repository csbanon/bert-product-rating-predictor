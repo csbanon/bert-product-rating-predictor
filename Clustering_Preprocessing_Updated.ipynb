{
  "nbformat": 4,
  "nbformat_minor": 0,
  "metadata": {
    "colab": {
      "name": "Clustering_Preprocessing_Updated.ipynb",
      "provenance": [],
      "authorship_tag": "ABX9TyOPFudr6fF4bq7B4A0bDHfR",
      "include_colab_link": true
    },
    "kernelspec": {
      "name": "python3",
      "display_name": "Python 3"
    }
  },
  "cells": [
    {
      "cell_type": "markdown",
      "metadata": {
        "id": "view-in-github",
        "colab_type": "text"
      },
      "source": [
        "<a href=\"https://colab.research.google.com/github/csbanon/bert-product-rating-predictor/blob/master/Clustering_Preprocessing_Updated.ipynb\" target=\"_parent\"><img src=\"https://colab.research.google.com/assets/colab-badge.svg\" alt=\"Open In Colab\"/></a>"
      ]
    },
    {
      "cell_type": "markdown",
      "metadata": {
        "id": "KbpWNcPyCYRM"
      },
      "source": [
        "This notebook contains code to preprocess data for clustering. This updated version includes tagging of negations in the tokens to preserve negative sentiments."
      ]
    },
    {
      "cell_type": "code",
      "metadata": {
        "id": "XS2Zz15HSBUx"
      },
      "source": [
        "# Import statements\n",
        "import numpy as np\n",
        "import pandas as pd"
      ],
      "execution_count": null,
      "outputs": []
    },
    {
      "cell_type": "markdown",
      "metadata": {
        "id": "2zBjmkMI_BG9"
      },
      "source": [
        "In the following cell, we access the required data, located in our repository. This url will change depending on the data that will be used for clustering.\n",
        "\n",
        "We will preprocess reviews with the star ratings in two forms: \n",
        "1. as **ground truth**\n",
        "2. as **predicted by our model**. \n"
      ]
    },
    {
      "cell_type": "code",
      "metadata": {
        "id": "_YXHkkBYRtEi"
      },
      "source": [
        "# Create a dataframe of all reviews (with comments and star ratings only)\n",
        "\n",
        "# For dataset with rating predictions for all reviews:\n",
        "# github_url = 'https://raw.githubusercontent.com/csbanon/bert-product-rating-predictor/master/data/predictions_all.csv'\n",
        "\n",
        "# For dataset with rating predictions only for the test dataset\n",
        "# github_url = 'https://raw.githubusercontent.com/csbanon/bert-product-rating-predictor/master/data/predictions_test.csv'\n",
        "\n",
        "# For dataset with ground truth star ratings and reviews:\n",
        "github_url = 'https://raw.githubusercontent.com/csbanon/bert-product-rating-predictor/master/data/reviews_comments_stars.csv'\n",
        "\n",
        "df = pd.read_csv(github_url)"
      ],
      "execution_count": null,
      "outputs": []
    },
    {
      "cell_type": "markdown",
      "metadata": {
        "id": "jo0K41xSTTwK"
      },
      "source": [
        "To preprocess reviews from the dataset containing the ground truth star ratings, minor modifications are made, as described in the relevant comments. \n",
        "Please note: These modifications are only made for the purpose of code reusability. They do not modify the nature of the data itself."
      ]
    },
    {
      "cell_type": "code",
      "metadata": {
        "id": "PvVgsqQlL3se"
      },
      "source": [
        "# Execute this cell if preprocessing data from the predicted datasets\n",
        "# df = df[['review', 'prediction']] # column names corresponding to predicted data csv files\n",
        "# df.head()"
      ],
      "execution_count": null,
      "outputs": []
    },
    {
      "cell_type": "code",
      "metadata": {
        "colab": {
          "base_uri": "https://localhost:8080/",
          "height": 204
        },
        "id": "ZnaRDWs7LnJB",
        "outputId": "392de723-2ea9-45e7-b46a-fda156eb6df7"
      },
      "source": [
        "# Execute this cell only if preprocessing ground truth dataset\n",
        "df = df[['comment','stars']] # column names corresponding to ground truth csv file\n",
        "\n",
        "# Renaming columns to match column names of predicted datasets for code reusability\n",
        "df.rename(columns={\"comment\": \"review\", \"stars\": \"prediction\"}, inplace=True)\n",
        "\n",
        "df.head()"
      ],
      "execution_count": null,
      "outputs": [
        {
          "output_type": "execute_result",
          "data": {
            "text/html": [
              "<div>\n",
              "<style scoped>\n",
              "    .dataframe tbody tr th:only-of-type {\n",
              "        vertical-align: middle;\n",
              "    }\n",
              "\n",
              "    .dataframe tbody tr th {\n",
              "        vertical-align: top;\n",
              "    }\n",
              "\n",
              "    .dataframe thead th {\n",
              "        text-align: right;\n",
              "    }\n",
              "</style>\n",
              "<table border=\"1\" class=\"dataframe\">\n",
              "  <thead>\n",
              "    <tr style=\"text-align: right;\">\n",
              "      <th></th>\n",
              "      <th>review</th>\n",
              "      <th>prediction</th>\n",
              "    </tr>\n",
              "  </thead>\n",
              "  <tbody>\n",
              "    <tr>\n",
              "      <th>0</th>\n",
              "      <td>I could sit here and write all about the specs...</td>\n",
              "      <td>5</td>\n",
              "    </tr>\n",
              "    <tr>\n",
              "      <th>1</th>\n",
              "      <td>A very reasonably priced laptop for basic comp...</td>\n",
              "      <td>4</td>\n",
              "    </tr>\n",
              "    <tr>\n",
              "      <th>2</th>\n",
              "      <td>This is the best laptop deal you can get, full...</td>\n",
              "      <td>5</td>\n",
              "    </tr>\n",
              "    <tr>\n",
              "      <th>3</th>\n",
              "      <td>A few months after the purchase....It is still...</td>\n",
              "      <td>5</td>\n",
              "    </tr>\n",
              "    <tr>\n",
              "      <th>4</th>\n",
              "      <td>BUYER BE AWARE: This computer has Microsoft 10...</td>\n",
              "      <td>1</td>\n",
              "    </tr>\n",
              "  </tbody>\n",
              "</table>\n",
              "</div>"
            ],
            "text/plain": [
              "                                              review  prediction\n",
              "0  I could sit here and write all about the specs...           5\n",
              "1  A very reasonably priced laptop for basic comp...           4\n",
              "2  This is the best laptop deal you can get, full...           5\n",
              "3  A few months after the purchase....It is still...           5\n",
              "4  BUYER BE AWARE: This computer has Microsoft 10...           1"
            ]
          },
          "metadata": {
            "tags": []
          },
          "execution_count": 4
        }
      ]
    },
    {
      "cell_type": "code",
      "metadata": {
        "id": "d7dAO6YwSUAb",
        "colab": {
          "base_uri": "https://localhost:8080/",
          "height": 204
        },
        "outputId": "b8084ce7-6698-4447-a55e-6ed7e5182f48"
      },
      "source": [
        "# Create review dataframes for each category of star rating\n",
        "df1 = df[df['prediction']==1]\n",
        "df2 = df[df['prediction']==2]\n",
        "df3 = df[df['prediction']==3]\n",
        "df4 = df[df['prediction']==4]\n",
        "df5 = df[df['prediction']==5]\n",
        "\n",
        "df1.head()"
      ],
      "execution_count": null,
      "outputs": [
        {
          "output_type": "execute_result",
          "data": {
            "text/html": [
              "<div>\n",
              "<style scoped>\n",
              "    .dataframe tbody tr th:only-of-type {\n",
              "        vertical-align: middle;\n",
              "    }\n",
              "\n",
              "    .dataframe tbody tr th {\n",
              "        vertical-align: top;\n",
              "    }\n",
              "\n",
              "    .dataframe thead th {\n",
              "        text-align: right;\n",
              "    }\n",
              "</style>\n",
              "<table border=\"1\" class=\"dataframe\">\n",
              "  <thead>\n",
              "    <tr style=\"text-align: right;\">\n",
              "      <th></th>\n",
              "      <th>review</th>\n",
              "      <th>prediction</th>\n",
              "    </tr>\n",
              "  </thead>\n",
              "  <tbody>\n",
              "    <tr>\n",
              "      <th>4</th>\n",
              "      <td>BUYER BE AWARE: This computer has Microsoft 10...</td>\n",
              "      <td>1</td>\n",
              "    </tr>\n",
              "    <tr>\n",
              "      <th>14</th>\n",
              "      <td>Why Acer install this version of Windows 10 wi...</td>\n",
              "      <td>1</td>\n",
              "    </tr>\n",
              "    <tr>\n",
              "      <th>15</th>\n",
              "      <td>As I write this I am on the phone with Microso...</td>\n",
              "      <td>1</td>\n",
              "    </tr>\n",
              "    <tr>\n",
              "      <th>23</th>\n",
              "      <td>Just abominable, at the absolute worst time in...</td>\n",
              "      <td>1</td>\n",
              "    </tr>\n",
              "    <tr>\n",
              "      <th>26</th>\n",
              "      <td>Beware of Windows 10s. I’ve been on live chat ...</td>\n",
              "      <td>1</td>\n",
              "    </tr>\n",
              "  </tbody>\n",
              "</table>\n",
              "</div>"
            ],
            "text/plain": [
              "                                               review  prediction\n",
              "4   BUYER BE AWARE: This computer has Microsoft 10...           1\n",
              "14  Why Acer install this version of Windows 10 wi...           1\n",
              "15  As I write this I am on the phone with Microso...           1\n",
              "23  Just abominable, at the absolute worst time in...           1\n",
              "26  Beware of Windows 10s. I’ve been on live chat ...           1"
            ]
          },
          "metadata": {
            "tags": []
          },
          "execution_count": 5
        }
      ]
    },
    {
      "cell_type": "code",
      "metadata": {
        "id": "jYFOkUtMs4mS",
        "colab": {
          "base_uri": "https://localhost:8080/"
        },
        "outputId": "2e9f85d2-d5a2-415d-a52a-9579092f1a88"
      },
      "source": [
        "# Required modules\n",
        "!pip install Unidecode\n",
        "\n",
        "# Following modules are required if expanding contractions using pycontractions.\n",
        "# !sudo apt install openjdk-8-jdk\n",
        "# !sudo update-alternatives --set java /usr/lib/jvm/java-8-openjdk-amd64/jre/bin/java\n",
        "# !pip install language-check\n",
        "# !pip install pycontractions\n",
        "# !pip install gensim"
      ],
      "execution_count": null,
      "outputs": [
        {
          "output_type": "stream",
          "text": [
            "Requirement already satisfied: Unidecode in /usr/local/lib/python3.6/dist-packages (1.1.1)\n"
          ],
          "name": "stdout"
        }
      ]
    },
    {
      "cell_type": "code",
      "metadata": {
        "id": "F4B1q5UIfURl",
        "colab": {
          "base_uri": "https://localhost:8080/"
        },
        "outputId": "9712689a-7ddb-4740-b5db-e99d4afd98c4"
      },
      "source": [
        "# More imports\n",
        "import nltk\n",
        "nltk.download('stopwords')\n",
        "nltk.download('wordnet')\n",
        "nltk.download('punkt')\n",
        "from nltk.stem.wordnet import WordNetLemmatizer\n",
        "from nltk.stem.porter import PorterStemmer\n",
        "from nltk.corpus import stopwords\n",
        "from nltk.tokenize import RegexpTokenizer # May import WordPunctTokenizer & word_tokenize for other approaches\n",
        "# from nltk.sentiment.util import mark_negation\n",
        "# from pycontractions import Contractions\n",
        "\n",
        "import string\n",
        "import unidecode\n",
        "import re\n",
        "import unidecode"
      ],
      "execution_count": null,
      "outputs": [
        {
          "output_type": "stream",
          "text": [
            "[nltk_data] Downloading package stopwords to /root/nltk_data...\n",
            "[nltk_data]   Package stopwords is already up-to-date!\n",
            "[nltk_data] Downloading package wordnet to /root/nltk_data...\n",
            "[nltk_data]   Package wordnet is already up-to-date!\n",
            "[nltk_data] Downloading package punkt to /root/nltk_data...\n",
            "[nltk_data]   Package punkt is already up-to-date!\n"
          ],
          "name": "stdout"
        }
      ]
    },
    {
      "cell_type": "code",
      "metadata": {
        "id": "lffZyHvHO75v"
      },
      "source": [
        "# Convert accented characters to ascii\n",
        "def remove_accents(text):\n",
        "  text = unidecode.unidecode(text)\n",
        "  return text"
      ],
      "execution_count": null,
      "outputs": []
    },
    {
      "cell_type": "code",
      "metadata": {
        "id": "hPwu_PD6CxVK"
      },
      "source": [
        "# Remove numeric characters\n",
        "def remove_nums(text):\n",
        "  text = re.sub(\"\\d+\", \" \", text)\n",
        "  return text"
      ],
      "execution_count": null,
      "outputs": []
    },
    {
      "cell_type": "code",
      "metadata": {
        "id": "S8ZLkH0WQuZV"
      },
      "source": [
        "# Contractions initialization\n",
        "# cont = Contractions(api_key=\"glove-twitter-100\")\n",
        "# cont.load_models()"
      ],
      "execution_count": null,
      "outputs": []
    },
    {
      "cell_type": "code",
      "metadata": {
        "id": "J6GHbn-qlis3"
      },
      "source": [
        "# Expand any contractions\n",
        "# def expand_contractions(text):\n",
        "#   text = list(cont.expand_texts([text], precise=False))\n",
        "#   textToStr = ' '.join([str(elem) for elem in text])\n",
        "#   return textToStr"
      ],
      "execution_count": null,
      "outputs": []
    },
    {
      "cell_type": "code",
      "metadata": {
        "id": "PfljQ4s-OviO"
      },
      "source": [
        "# Tokenizer instantiation: only consider alphabetic characters for tokenization\n",
        "tokenizer = RegexpTokenizer(r\"\\w+[a-zA-Z]\")\n",
        "def get_tokens(text):\n",
        "  # tokens = word_tokenize(text.lower())\n",
        "  #  split into words by white space\n",
        "  words = text.replace(\"'\",\"\")\n",
        "  tokens = tokenizer.tokenize(words.lower())\n",
        "  return tokens"
      ],
      "execution_count": null,
      "outputs": []
    },
    {
      "cell_type": "code",
      "metadata": {
        "id": "VpAMCbf62SBK"
      },
      "source": [
        "# Mark negations: if a word is preceeded by a form of \"not\" or \"no\", it is flagged as a negated word.\n",
        "negations_list = [\"no\", \"not\", \"n't\",\n",
        "\"shouldn't\", \"shouldnt\",\n",
        "\"couldn't\", \"couldnt\",\n",
        "\"wouldn't\", \"wouldnt\",\n",
        "\"hadn't\", \"hadnt\",\n",
        "\"didn't\", \"didnt\",\n",
        "\"isn't\", \"isnt\",\n",
        "\"won't\", \"wont\",\n",
        "\"can't\", \"cant\",\n",
        "\"doesn't\", \"doesnt\",\n",
        "\"aren't\", \"arent\",\n",
        "\"wasn't\", \"wasnt\",\n",
        "\"haven't\", \"havent\",\n",
        "\"hasn't\", \"hasnt\",\n",
        "\"don't\", \"dont\",\n",
        "\"weren't\", \"werent\",\n",
        "\"mightn't\", \"mightnt\",\n",
        "\"needn't\", \"neednt\"]\n",
        "\n",
        "def mark_neg(text):\n",
        "  for i in range(0,len(text)):\n",
        "    if i == len(text) - 1:\n",
        "      break\n",
        "    else:\n",
        "      if text[i] in negations_list:\n",
        "        text[i+1] = 'NOT_'+text[i+1]\n",
        "  return text"
      ],
      "execution_count": null,
      "outputs": []
    },
    {
      "cell_type": "code",
      "metadata": {
        "id": "F0jRQdJ2OpVF"
      },
      "source": [
        "# Remove stop words\n",
        "def remove_stopwords(text):\n",
        "  stoplist = stopwords.words('english')\n",
        "  stoplist = set([word for word in stoplist])\n",
        "  words = [w for w in text if (w not in stoplist and w not in negations_list)]\n",
        "  return words"
      ],
      "execution_count": null,
      "outputs": []
    },
    {
      "cell_type": "code",
      "metadata": {
        "id": "wVY4RPLb0ho6"
      },
      "source": [
        "# Lemmatization\n",
        "lemmatizer = WordNetLemmatizer() \n",
        "def lemmatize(text):\n",
        "  lem_text = [lemmatizer.lemmatize(i) for i in text]\n",
        "  return lem_text"
      ],
      "execution_count": null,
      "outputs": []
    },
    {
      "cell_type": "code",
      "metadata": {
        "id": "jxye8aLpPAHW"
      },
      "source": [
        "pd.options.mode.chained_assignment = None  # turns off Pandas warning when processing all dataframes\n",
        "\n",
        "# Perform preprocessing for each category of star rating\n",
        "df_list = [df1, df2, df3, df4, df5]\n",
        "\n",
        "for frame in df_list:\n",
        "  frame['review'] = frame['review'].apply(lambda x: remove_accents(x))\n",
        "  frame['review'] = frame['review'].apply(lambda x: remove_nums(x))\n",
        "  # frame['review'] = frame['review'].apply(lambda x: expand_contractions(x)) # runtime too long for this step \n",
        "  frame['review'] = frame['review'].apply(lambda x: get_tokens(x)) # tokenizes and convert to lowercase\n",
        "  frame['review'] = frame['review'].apply(lambda x: mark_neg(x))\n",
        "  frame['review'] = frame['review'].apply(lambda x: remove_stopwords(x))\n",
        "  frame['review'] = frame['review'].apply(lambda x: lemmatize(x))"
      ],
      "execution_count": null,
      "outputs": []
    },
    {
      "cell_type": "code",
      "metadata": {
        "id": "-7juJrAvqDJB",
        "colab": {
          "base_uri": "https://localhost:8080/",
          "height": 204
        },
        "outputId": "10c05b3a-76ed-464b-b668-2d7abbe823ff"
      },
      "source": [
        "# Test\n",
        "df1.head()"
      ],
      "execution_count": null,
      "outputs": [
        {
          "output_type": "execute_result",
          "data": {
            "text/html": [
              "<div>\n",
              "<style scoped>\n",
              "    .dataframe tbody tr th:only-of-type {\n",
              "        vertical-align: middle;\n",
              "    }\n",
              "\n",
              "    .dataframe tbody tr th {\n",
              "        vertical-align: top;\n",
              "    }\n",
              "\n",
              "    .dataframe thead th {\n",
              "        text-align: right;\n",
              "    }\n",
              "</style>\n",
              "<table border=\"1\" class=\"dataframe\">\n",
              "  <thead>\n",
              "    <tr style=\"text-align: right;\">\n",
              "      <th></th>\n",
              "      <th>review</th>\n",
              "      <th>prediction</th>\n",
              "    </tr>\n",
              "  </thead>\n",
              "  <tbody>\n",
              "    <tr>\n",
              "      <th>4</th>\n",
              "      <td>[buyer, aware, computer, microsoft, scam, soft...</td>\n",
              "      <td>1</td>\n",
              "    </tr>\n",
              "    <tr>\n",
              "      <th>14</th>\n",
              "      <td>[acer, install, version, window, forced, mode,...</td>\n",
              "      <td>1</td>\n",
              "    </tr>\n",
              "    <tr>\n",
              "      <th>15</th>\n",
              "      <td>[write, phone, microsoft, attempting, get, mul...</td>\n",
              "      <td>1</td>\n",
              "    </tr>\n",
              "    <tr>\n",
              "      <th>23</th>\n",
              "      <td>[abominable, absolute, worst, time, life, poss...</td>\n",
              "      <td>1</td>\n",
              "    </tr>\n",
              "    <tr>\n",
              "      <th>26</th>\n",
              "      <td>[beware, window, ive, live, chat, microsoft, h...</td>\n",
              "      <td>1</td>\n",
              "    </tr>\n",
              "  </tbody>\n",
              "</table>\n",
              "</div>"
            ],
            "text/plain": [
              "                                               review  prediction\n",
              "4   [buyer, aware, computer, microsoft, scam, soft...           1\n",
              "14  [acer, install, version, window, forced, mode,...           1\n",
              "15  [write, phone, microsoft, attempting, get, mul...           1\n",
              "23  [abominable, absolute, worst, time, life, poss...           1\n",
              "26  [beware, window, ive, live, chat, microsoft, h...           1"
            ]
          },
          "metadata": {
            "tags": []
          },
          "execution_count": 17
        }
      ]
    },
    {
      "cell_type": "code",
      "metadata": {
        "id": "VBtHmRJx0DX4"
      },
      "source": [
        "# Test: Inspect one set of tokens for one review comment\n",
        "# stringg = df2.iloc[0:1,0:1]\n",
        "# stringg.to_csv('sample.csv')"
      ],
      "execution_count": null,
      "outputs": []
    },
    {
      "cell_type": "code",
      "metadata": {
        "id": "XHRuV-sh4Thw",
        "colab": {
          "base_uri": "https://localhost:8080/",
          "height": 204
        },
        "outputId": "f6e42505-830f-44b5-cc80-f5bdb5a33ad5"
      },
      "source": [
        "# Test\n",
        "df5.head()"
      ],
      "execution_count": null,
      "outputs": [
        {
          "output_type": "execute_result",
          "data": {
            "text/html": [
              "<div>\n",
              "<style scoped>\n",
              "    .dataframe tbody tr th:only-of-type {\n",
              "        vertical-align: middle;\n",
              "    }\n",
              "\n",
              "    .dataframe tbody tr th {\n",
              "        vertical-align: top;\n",
              "    }\n",
              "\n",
              "    .dataframe thead th {\n",
              "        text-align: right;\n",
              "    }\n",
              "</style>\n",
              "<table border=\"1\" class=\"dataframe\">\n",
              "  <thead>\n",
              "    <tr style=\"text-align: right;\">\n",
              "      <th></th>\n",
              "      <th>review</th>\n",
              "      <th>prediction</th>\n",
              "    </tr>\n",
              "  </thead>\n",
              "  <tbody>\n",
              "    <tr>\n",
              "      <th>0</th>\n",
              "      <td>[could, sit, write, spec, computer, already, d...</td>\n",
              "      <td>5</td>\n",
              "    </tr>\n",
              "    <tr>\n",
              "      <th>2</th>\n",
              "      <td>[best, laptop, deal, get, full, stop, touchesc...</td>\n",
              "      <td>5</td>\n",
              "    </tr>\n",
              "    <tr>\n",
              "      <th>3</th>\n",
              "      <td>[month, purchase, still, running, good, bought...</td>\n",
              "      <td>5</td>\n",
              "    </tr>\n",
              "    <tr>\n",
              "      <th>5</th>\n",
              "      <td>[update, labtop, completely, died, near, end, ...</td>\n",
              "      <td>5</td>\n",
              "    </tr>\n",
              "    <tr>\n",
              "      <th>7</th>\n",
              "      <td>[run, amazing]</td>\n",
              "      <td>5</td>\n",
              "    </tr>\n",
              "  </tbody>\n",
              "</table>\n",
              "</div>"
            ],
            "text/plain": [
              "                                              review  prediction\n",
              "0  [could, sit, write, spec, computer, already, d...           5\n",
              "2  [best, laptop, deal, get, full, stop, touchesc...           5\n",
              "3  [month, purchase, still, running, good, bought...           5\n",
              "5  [update, labtop, completely, died, near, end, ...           5\n",
              "7                                     [run, amazing]           5"
            ]
          },
          "metadata": {
            "tags": []
          },
          "execution_count": 19
        }
      ]
    },
    {
      "cell_type": "code",
      "metadata": {
        "id": "vE1jhw0bMe8p"
      },
      "source": [
        "# Execute this cell only if preprocessing ground truth dataset.\n",
        "# Renaming \"prediction\" column to \"stars\" because these are ground truth ratings, not predicted ratings.\n",
        "for frame in df_list:\n",
        "  frame.rename(columns={\"prediction\":\"stars\"}, inplace=True)"
      ],
      "execution_count": null,
      "outputs": []
    },
    {
      "cell_type": "code",
      "metadata": {
        "id": "ZDClXDgP2Q5U",
        "colab": {
          "base_uri": "https://localhost:8080/",
          "height": 204
        },
        "outputId": "fe842b8d-7401-4190-995f-06cfaf1d775c"
      },
      "source": [
        "# Create composite dataframe of tokens for all reviews, for all star ratings\n",
        "mega_df = pd.concat(objs=[df1,df2,df3,df4,df5])\n",
        "mega_df.head()"
      ],
      "execution_count": null,
      "outputs": [
        {
          "output_type": "execute_result",
          "data": {
            "text/html": [
              "<div>\n",
              "<style scoped>\n",
              "    .dataframe tbody tr th:only-of-type {\n",
              "        vertical-align: middle;\n",
              "    }\n",
              "\n",
              "    .dataframe tbody tr th {\n",
              "        vertical-align: top;\n",
              "    }\n",
              "\n",
              "    .dataframe thead th {\n",
              "        text-align: right;\n",
              "    }\n",
              "</style>\n",
              "<table border=\"1\" class=\"dataframe\">\n",
              "  <thead>\n",
              "    <tr style=\"text-align: right;\">\n",
              "      <th></th>\n",
              "      <th>review</th>\n",
              "      <th>stars</th>\n",
              "    </tr>\n",
              "  </thead>\n",
              "  <tbody>\n",
              "    <tr>\n",
              "      <th>4</th>\n",
              "      <td>[buyer, aware, computer, microsoft, scam, soft...</td>\n",
              "      <td>1</td>\n",
              "    </tr>\n",
              "    <tr>\n",
              "      <th>14</th>\n",
              "      <td>[acer, install, version, window, forced, mode,...</td>\n",
              "      <td>1</td>\n",
              "    </tr>\n",
              "    <tr>\n",
              "      <th>15</th>\n",
              "      <td>[write, phone, microsoft, attempting, get, mul...</td>\n",
              "      <td>1</td>\n",
              "    </tr>\n",
              "    <tr>\n",
              "      <th>23</th>\n",
              "      <td>[abominable, absolute, worst, time, life, poss...</td>\n",
              "      <td>1</td>\n",
              "    </tr>\n",
              "    <tr>\n",
              "      <th>26</th>\n",
              "      <td>[beware, window, ive, live, chat, microsoft, h...</td>\n",
              "      <td>1</td>\n",
              "    </tr>\n",
              "  </tbody>\n",
              "</table>\n",
              "</div>"
            ],
            "text/plain": [
              "                                               review  stars\n",
              "4   [buyer, aware, computer, microsoft, scam, soft...      1\n",
              "14  [acer, install, version, window, forced, mode,...      1\n",
              "15  [write, phone, microsoft, attempting, get, mul...      1\n",
              "23  [abominable, absolute, worst, time, life, poss...      1\n",
              "26  [beware, window, ive, live, chat, microsoft, h...      1"
            ]
          },
          "metadata": {
            "tags": []
          },
          "execution_count": 21
        }
      ]
    },
    {
      "cell_type": "markdown",
      "metadata": {
        "id": "VE25QIYuPxhk"
      },
      "source": [
        "The following code is used to save tokens as .csv files. The naming convention changes depending on the data that has been preprocessed."
      ]
    },
    {
      "cell_type": "code",
      "metadata": {
        "id": "jkRSUsKT38fP"
      },
      "source": [
        "# For clustering using predictions made on the entire dataset:\n",
        "\n",
        "# mega_df.to_csv('tokens_all_predictions.csv') # Save tokens from all reviews, for all predicted ratings\n",
        "# for idx, frame in enumerate(df_list): # Save tokens for each category of predicted star rating [1-5]\n",
        "#   filename = 'tokens_all_predictions_'+str(idx+1)+'.csv'\n",
        "#   frame.to_csv(filename)"
      ],
      "execution_count": null,
      "outputs": []
    },
    {
      "cell_type": "code",
      "metadata": {
        "id": "reu1c1wbfuxt"
      },
      "source": [
        "# For clustering using predictions made only on test dataset:\n",
        "\n",
        "# mega_df.to_csv('tokens_test_predictions.csv') # Save tokens from all reviews, for all predicted ratings\n",
        "# for idx, frame in enumerate(df_list): # Save tokens for each category of predicted star rating [1-5] \n",
        "#   filename = 'tokens_test_predictions_'+str(idx+1)+'.csv'\n",
        "#   frame.to_csv(filename)"
      ],
      "execution_count": null,
      "outputs": []
    },
    {
      "cell_type": "code",
      "metadata": {
        "id": "IYlj1elxIMt5"
      },
      "source": [
        "# For clustering using ground truth dataset:\n",
        "\n",
        "mega_df.to_csv('tokens_true_ratings_all.csv') # Save tokens from all reviews, for all true ratings\n",
        "for idx, frame in enumerate(df_list): # Save tokens for each category of star rating [1-5] \n",
        "  filename = 'tokens_true_ratings_'+str(idx+1)+'.csv'\n",
        "  frame.to_csv(filename)"
      ],
      "execution_count": null,
      "outputs": []
    },
    {
      "cell_type": "markdown",
      "metadata": {
        "id": "yTB3CGE4Hshb"
      },
      "source": [
        "#References:\n",
        "1. https://towardsdatascience.com/nlp-text-preprocessing-a-practical-guide-and-template-d80874676e79\n",
        "2. https://towardsdatascience.com/nlp-for-beginners-cleaning-preprocessing-text-data-ae8e306bef0f\n",
        "3. https://pypi.org/project/pycontractions/\n",
        "4. https://machinelearningmastery.com/clean-text-machine-learning-python/\n",
        "5. https://web.stanford.edu/~jurafsky/slp3/4.pdf (pg 8)"
      ]
    }
  ]
}