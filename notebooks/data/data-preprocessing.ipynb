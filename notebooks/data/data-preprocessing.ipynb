{
  "nbformat": 4,
  "nbformat_minor": 0,
  "metadata": {
    "colab": {
      "name": "data.ipynb",
      "provenance": []
    },
    "kernelspec": {
      "name": "python3",
      "display_name": "Python 3"
    }
  },
  "cells": [
    {
      "cell_type": "code",
      "metadata": {
        "id": "duKUcQFVixQF",
        "outputId": "a52f9438-9bd4-4979-bc03-e76070ed3417",
        "colab": {
          "base_uri": "https://localhost:8080/",
          "height": 34
        }
      },
      "source": [
        "import glob\n",
        "import pandas as pd\n",
        "import urllib.request\n",
        "\n",
        "!python3 --version"
      ],
      "execution_count": 4,
      "outputs": [
        {
          "output_type": "stream",
          "text": [
            "Python 3.6.9\n"
          ],
          "name": "stdout"
        }
      ]
    },
    {
      "cell_type": "code",
      "metadata": {
        "id": "22DKXGo7myvz",
        "outputId": "51957b43-7d67-4b04-c3eb-e417692ed02a",
        "colab": {
          "base_uri": "https://localhost:8080/",
          "height": 419
        }
      },
      "source": [
        "# Grab the list of URLs.\n",
        "url = \"https://raw.githubusercontent.com/csbanon/bert-product-rating-predictor/master/data/file_names.txt\"\n",
        "file = urllib.request.urlopen(url)\n",
        "lines = [line for line in file.readlines()]\n",
        "file.close()\n",
        "\n",
        "url_list = []\n",
        "\n",
        "# Convert the data to strings.\n",
        "for line in lines:\n",
        "  curr_line = line.decode(\"utf-8\")\n",
        "  url_list.append(curr_line[0:len(curr_line) - 1])\n",
        "\n",
        "df_list = []\n",
        "\n",
        "# Read the data into a Pandas DataFrame.\n",
        "for url in url_list:\n",
        "  df = pd.read_csv(url)\n",
        "  df_list.append(df)\n",
        "\n",
        "# Concatenate all DataFrames.\n",
        "df = pd.concat(df_list, axis=0, ignore_index=True)\n",
        "df"
      ],
      "execution_count": 5,
      "outputs": [
        {
          "output_type": "execute_result",
          "data": {
            "text/html": [
              "<div>\n",
              "<style scoped>\n",
              "    .dataframe tbody tr th:only-of-type {\n",
              "        vertical-align: middle;\n",
              "    }\n",
              "\n",
              "    .dataframe tbody tr th {\n",
              "        vertical-align: top;\n",
              "    }\n",
              "\n",
              "    .dataframe thead th {\n",
              "        text-align: right;\n",
              "    }\n",
              "</style>\n",
              "<table border=\"1\" class=\"dataframe\">\n",
              "  <thead>\n",
              "    <tr style=\"text-align: right;\">\n",
              "      <th></th>\n",
              "      <th>comment</th>\n",
              "      <th>stars</th>\n",
              "      <th>verified</th>\n",
              "      <th>date</th>\n",
              "      <th>country</th>\n",
              "      <th>helpful</th>\n",
              "      <th>has-media</th>\n",
              "    </tr>\n",
              "  </thead>\n",
              "  <tbody>\n",
              "    <tr>\n",
              "      <th>0</th>\n",
              "      <td>I could sit here and write all about the specs...</td>\n",
              "      <td>5</td>\n",
              "      <td>0</td>\n",
              "      <td>2019-6-25</td>\n",
              "      <td>1</td>\n",
              "      <td>3</td>\n",
              "      <td>0</td>\n",
              "    </tr>\n",
              "    <tr>\n",
              "      <th>1</th>\n",
              "      <td>A very reasonably priced laptop for basic comp...</td>\n",
              "      <td>4</td>\n",
              "      <td>0</td>\n",
              "      <td>2019-7-2</td>\n",
              "      <td>1</td>\n",
              "      <td>1</td>\n",
              "      <td>1</td>\n",
              "    </tr>\n",
              "    <tr>\n",
              "      <th>2</th>\n",
              "      <td>This is the best laptop deal you can get, full...</td>\n",
              "      <td>5</td>\n",
              "      <td>1</td>\n",
              "      <td>2019-8-3</td>\n",
              "      <td>1</td>\n",
              "      <td>1</td>\n",
              "      <td>1</td>\n",
              "    </tr>\n",
              "    <tr>\n",
              "      <th>3</th>\n",
              "      <td>A few months after the purchase....It is still...</td>\n",
              "      <td>5</td>\n",
              "      <td>1</td>\n",
              "      <td>2019-7-12</td>\n",
              "      <td>1</td>\n",
              "      <td>1</td>\n",
              "      <td>0</td>\n",
              "    </tr>\n",
              "    <tr>\n",
              "      <th>4</th>\n",
              "      <td>BUYER BE AWARE: This computer has Microsoft 10...</td>\n",
              "      <td>1</td>\n",
              "      <td>1</td>\n",
              "      <td>2019-8-7</td>\n",
              "      <td>1</td>\n",
              "      <td>6</td>\n",
              "      <td>0</td>\n",
              "    </tr>\n",
              "    <tr>\n",
              "      <th>...</th>\n",
              "      <td>...</td>\n",
              "      <td>...</td>\n",
              "      <td>...</td>\n",
              "      <td>...</td>\n",
              "      <td>...</td>\n",
              "      <td>...</td>\n",
              "      <td>...</td>\n",
              "    </tr>\n",
              "    <tr>\n",
              "      <th>195786</th>\n",
              "      <td>I have not tried this camera without the SD ca...</td>\n",
              "      <td>5</td>\n",
              "      <td>1</td>\n",
              "      <td>2019-12-29</td>\n",
              "      <td>1</td>\n",
              "      <td>0</td>\n",
              "      <td>0</td>\n",
              "    </tr>\n",
              "    <tr>\n",
              "      <th>195787</th>\n",
              "      <td>Hello, I bought this item months ago and I tho...</td>\n",
              "      <td>1</td>\n",
              "      <td>1</td>\n",
              "      <td>2019-4-28</td>\n",
              "      <td>1</td>\n",
              "      <td>0</td>\n",
              "      <td>0</td>\n",
              "    </tr>\n",
              "    <tr>\n",
              "      <th>195788</th>\n",
              "      <td>This is an incredible camera for the money!!  ...</td>\n",
              "      <td>5</td>\n",
              "      <td>1</td>\n",
              "      <td>2019-6-3</td>\n",
              "      <td>1</td>\n",
              "      <td>0</td>\n",
              "      <td>0</td>\n",
              "    </tr>\n",
              "    <tr>\n",
              "      <th>195789</th>\n",
              "      <td>Great cameras. Purchased some for my mother af...</td>\n",
              "      <td>5</td>\n",
              "      <td>1</td>\n",
              "      <td>2020-6-12</td>\n",
              "      <td>1</td>\n",
              "      <td>1</td>\n",
              "      <td>0</td>\n",
              "    </tr>\n",
              "    <tr>\n",
              "      <th>195790</th>\n",
              "      <td>Just getting it set up and seem s to work well...</td>\n",
              "      <td>5</td>\n",
              "      <td>1</td>\n",
              "      <td>2020-1-8</td>\n",
              "      <td>1</td>\n",
              "      <td>0</td>\n",
              "      <td>0</td>\n",
              "    </tr>\n",
              "  </tbody>\n",
              "</table>\n",
              "<p>195791 rows × 7 columns</p>\n",
              "</div>"
            ],
            "text/plain": [
              "                                                  comment  ...  has-media\n",
              "0       I could sit here and write all about the specs...  ...          0\n",
              "1       A very reasonably priced laptop for basic comp...  ...          1\n",
              "2       This is the best laptop deal you can get, full...  ...          1\n",
              "3       A few months after the purchase....It is still...  ...          0\n",
              "4       BUYER BE AWARE: This computer has Microsoft 10...  ...          0\n",
              "...                                                   ...  ...        ...\n",
              "195786  I have not tried this camera without the SD ca...  ...          0\n",
              "195787  Hello, I bought this item months ago and I tho...  ...          0\n",
              "195788  This is an incredible camera for the money!!  ...  ...          0\n",
              "195789  Great cameras. Purchased some for my mother af...  ...          0\n",
              "195790  Just getting it set up and seem s to work well...  ...          0\n",
              "\n",
              "[195791 rows x 7 columns]"
            ]
          },
          "metadata": {
            "tags": []
          },
          "execution_count": 5
        }
      ]
    },
    {
      "cell_type": "code",
      "metadata": {
        "id": "w8djH8NVsIiR",
        "outputId": "3df21284-43f8-4f4b-8647-ed67c46ab3c0",
        "colab": {
          "base_uri": "https://localhost:8080/",
          "height": 153
        }
      },
      "source": [
        "# Check for missing values.\n",
        "df.isnull().any()"
      ],
      "execution_count": 6,
      "outputs": [
        {
          "output_type": "execute_result",
          "data": {
            "text/plain": [
              "comment       True\n",
              "stars        False\n",
              "verified     False\n",
              "date         False\n",
              "country      False\n",
              "helpful      False\n",
              "has-media    False\n",
              "dtype: bool"
            ]
          },
          "metadata": {
            "tags": []
          },
          "execution_count": 6
        }
      ]
    },
    {
      "cell_type": "code",
      "metadata": {
        "id": "66257Mv6sLxW",
        "outputId": "3c960447-3962-4f70-9fa0-cb61e27c06d6",
        "colab": {
          "base_uri": "https://localhost:8080/",
          "height": 71
        }
      },
      "source": [
        "# Find reviews with missing comments.\n",
        "missing_indices = df[df['comment'].isnull()].index.tolist()\n",
        "print('Number of reviews missing comments: ', len(missing_indices))\n",
        "print('Missing indices: ', missing_indices)"
      ],
      "execution_count": 7,
      "outputs": [
        {
          "output_type": "stream",
          "text": [
            "Number of reviews missing comments:  26\n",
            "Missing indices:  [24835, 37237, 37277, 40072, 50852, 64895, 69760, 80854, 81562, 84103, 86420, 92670, 98539, 98769, 105389, 105405, 112139, 121481, 128082, 129823, 161838, 163097, 166147, 166321, 166371, 169934]\n"
          ],
          "name": "stdout"
        }
      ]
    },
    {
      "cell_type": "code",
      "metadata": {
        "id": "IhQoTLYNsRHH",
        "outputId": "82533d7a-fed7-4fcf-d747-754a53743f54",
        "colab": {
          "base_uri": "https://localhost:8080/",
          "height": 34
        }
      },
      "source": [
        "print('Max comment length (of all products): ', int(df.comment.str.len().max()))"
      ],
      "execution_count": 8,
      "outputs": [
        {
          "output_type": "stream",
          "text": [
            "Max comment length (of all products):  5127\n"
          ],
          "name": "stdout"
        }
      ]
    },
    {
      "cell_type": "code",
      "metadata": {
        "id": "foknRCFhsU29",
        "outputId": "b2c953b9-de6e-4101-e4ee-d7236c4ae340",
        "colab": {
          "base_uri": "https://localhost:8080/",
          "height": 524
        }
      },
      "source": [
        "# Get only the comments and star (labels) data.\n",
        "df_comments_stars = df[['comment', 'stars']]\n",
        "df_comments_stars.dropna(inplace=True)\n",
        "df_comments_stars"
      ],
      "execution_count": 9,
      "outputs": [
        {
          "output_type": "stream",
          "text": [
            "/usr/local/lib/python3.6/dist-packages/ipykernel_launcher.py:3: SettingWithCopyWarning: \n",
            "A value is trying to be set on a copy of a slice from a DataFrame\n",
            "\n",
            "See the caveats in the documentation: https://pandas.pydata.org/pandas-docs/stable/user_guide/indexing.html#returning-a-view-versus-a-copy\n",
            "  This is separate from the ipykernel package so we can avoid doing imports until\n"
          ],
          "name": "stderr"
        },
        {
          "output_type": "execute_result",
          "data": {
            "text/html": [
              "<div>\n",
              "<style scoped>\n",
              "    .dataframe tbody tr th:only-of-type {\n",
              "        vertical-align: middle;\n",
              "    }\n",
              "\n",
              "    .dataframe tbody tr th {\n",
              "        vertical-align: top;\n",
              "    }\n",
              "\n",
              "    .dataframe thead th {\n",
              "        text-align: right;\n",
              "    }\n",
              "</style>\n",
              "<table border=\"1\" class=\"dataframe\">\n",
              "  <thead>\n",
              "    <tr style=\"text-align: right;\">\n",
              "      <th></th>\n",
              "      <th>comment</th>\n",
              "      <th>stars</th>\n",
              "    </tr>\n",
              "  </thead>\n",
              "  <tbody>\n",
              "    <tr>\n",
              "      <th>0</th>\n",
              "      <td>I could sit here and write all about the specs...</td>\n",
              "      <td>5</td>\n",
              "    </tr>\n",
              "    <tr>\n",
              "      <th>1</th>\n",
              "      <td>A very reasonably priced laptop for basic comp...</td>\n",
              "      <td>4</td>\n",
              "    </tr>\n",
              "    <tr>\n",
              "      <th>2</th>\n",
              "      <td>This is the best laptop deal you can get, full...</td>\n",
              "      <td>5</td>\n",
              "    </tr>\n",
              "    <tr>\n",
              "      <th>3</th>\n",
              "      <td>A few months after the purchase....It is still...</td>\n",
              "      <td>5</td>\n",
              "    </tr>\n",
              "    <tr>\n",
              "      <th>4</th>\n",
              "      <td>BUYER BE AWARE: This computer has Microsoft 10...</td>\n",
              "      <td>1</td>\n",
              "    </tr>\n",
              "    <tr>\n",
              "      <th>...</th>\n",
              "      <td>...</td>\n",
              "      <td>...</td>\n",
              "    </tr>\n",
              "    <tr>\n",
              "      <th>195786</th>\n",
              "      <td>I have not tried this camera without the SD ca...</td>\n",
              "      <td>5</td>\n",
              "    </tr>\n",
              "    <tr>\n",
              "      <th>195787</th>\n",
              "      <td>Hello, I bought this item months ago and I tho...</td>\n",
              "      <td>1</td>\n",
              "    </tr>\n",
              "    <tr>\n",
              "      <th>195788</th>\n",
              "      <td>This is an incredible camera for the money!!  ...</td>\n",
              "      <td>5</td>\n",
              "    </tr>\n",
              "    <tr>\n",
              "      <th>195789</th>\n",
              "      <td>Great cameras. Purchased some for my mother af...</td>\n",
              "      <td>5</td>\n",
              "    </tr>\n",
              "    <tr>\n",
              "      <th>195790</th>\n",
              "      <td>Just getting it set up and seem s to work well...</td>\n",
              "      <td>5</td>\n",
              "    </tr>\n",
              "  </tbody>\n",
              "</table>\n",
              "<p>195765 rows × 2 columns</p>\n",
              "</div>"
            ],
            "text/plain": [
              "                                                  comment  stars\n",
              "0       I could sit here and write all about the specs...      5\n",
              "1       A very reasonably priced laptop for basic comp...      4\n",
              "2       This is the best laptop deal you can get, full...      5\n",
              "3       A few months after the purchase....It is still...      5\n",
              "4       BUYER BE AWARE: This computer has Microsoft 10...      1\n",
              "...                                                   ...    ...\n",
              "195786  I have not tried this camera without the SD ca...      5\n",
              "195787  Hello, I bought this item months ago and I tho...      1\n",
              "195788  This is an incredible camera for the money!!  ...      5\n",
              "195789  Great cameras. Purchased some for my mother af...      5\n",
              "195790  Just getting it set up and seem s to work well...      5\n",
              "\n",
              "[195765 rows x 2 columns]"
            ]
          },
          "metadata": {
            "tags": []
          },
          "execution_count": 9
        }
      ]
    },
    {
      "cell_type": "code",
      "metadata": {
        "id": "_Fo115BlsvOv"
      },
      "source": [
        "# Save the large dataset to a CSV file.\n",
        "df.to_csv('reviews.csv')\n",
        "\n",
        "# Save the dataset with comments and stars.\n",
        "df_comments_stars.to_csv('reviews_comments_stars.csv')"
      ],
      "execution_count": 10,
      "outputs": []
    }
  ]
}