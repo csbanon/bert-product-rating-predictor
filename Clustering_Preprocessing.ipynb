{
  "nbformat": 4,
  "nbformat_minor": 0,
  "metadata": {
    "colab": {
      "name": "Clustering_Preprocessing.ipynb",
      "provenance": []
    },
    "kernelspec": {
      "name": "python3",
      "display_name": "Python 3"
    }
  },
  "cells": [
    {
      "cell_type": "code",
      "metadata": {
        "id": "XS2Zz15HSBUx"
      },
      "source": [
        "# Imports\n",
        "import numpy as np\n",
        "import pandas as pd"
      ],
      "execution_count": 1,
      "outputs": []
    },
    {
      "cell_type": "code",
      "metadata": {
        "id": "_YXHkkBYRtEi",
        "outputId": "023fd0c1-fe71-4c90-e337-2196ba58d18e",
        "colab": {
          "base_uri": "https://localhost:8080/",
          "height": 204
        }
      },
      "source": [
        "# Create a dataframe of all reviews (with comments and star ratings only)\n",
        "github_url = 'https://raw.githubusercontent.com/csbanon/bert-product-rating-predictor/master/data/reviews_comments_stars.csv'\n",
        "df = pd.read_csv(github_url)\n",
        "df = df[['comment', 'stars']]\n",
        "df.head()"
      ],
      "execution_count": 2,
      "outputs": [
        {
          "output_type": "execute_result",
          "data": {
            "text/html": [
              "<div>\n",
              "<style scoped>\n",
              "    .dataframe tbody tr th:only-of-type {\n",
              "        vertical-align: middle;\n",
              "    }\n",
              "\n",
              "    .dataframe tbody tr th {\n",
              "        vertical-align: top;\n",
              "    }\n",
              "\n",
              "    .dataframe thead th {\n",
              "        text-align: right;\n",
              "    }\n",
              "</style>\n",
              "<table border=\"1\" class=\"dataframe\">\n",
              "  <thead>\n",
              "    <tr style=\"text-align: right;\">\n",
              "      <th></th>\n",
              "      <th>comment</th>\n",
              "      <th>stars</th>\n",
              "    </tr>\n",
              "  </thead>\n",
              "  <tbody>\n",
              "    <tr>\n",
              "      <th>0</th>\n",
              "      <td>I could sit here and write all about the specs...</td>\n",
              "      <td>5</td>\n",
              "    </tr>\n",
              "    <tr>\n",
              "      <th>1</th>\n",
              "      <td>A very reasonably priced laptop for basic comp...</td>\n",
              "      <td>4</td>\n",
              "    </tr>\n",
              "    <tr>\n",
              "      <th>2</th>\n",
              "      <td>This is the best laptop deal you can get, full...</td>\n",
              "      <td>5</td>\n",
              "    </tr>\n",
              "    <tr>\n",
              "      <th>3</th>\n",
              "      <td>A few months after the purchase....It is still...</td>\n",
              "      <td>5</td>\n",
              "    </tr>\n",
              "    <tr>\n",
              "      <th>4</th>\n",
              "      <td>BUYER BE AWARE: This computer has Microsoft 10...</td>\n",
              "      <td>1</td>\n",
              "    </tr>\n",
              "  </tbody>\n",
              "</table>\n",
              "</div>"
            ],
            "text/plain": [
              "                                             comment  stars\n",
              "0  I could sit here and write all about the specs...      5\n",
              "1  A very reasonably priced laptop for basic comp...      4\n",
              "2  This is the best laptop deal you can get, full...      5\n",
              "3  A few months after the purchase....It is still...      5\n",
              "4  BUYER BE AWARE: This computer has Microsoft 10...      1"
            ]
          },
          "metadata": {
            "tags": []
          },
          "execution_count": 2
        }
      ]
    },
    {
      "cell_type": "code",
      "metadata": {
        "id": "d7dAO6YwSUAb",
        "outputId": "a0ceed89-a30a-453c-cc32-2cb457213608",
        "colab": {
          "base_uri": "https://localhost:8080/",
          "height": 204
        }
      },
      "source": [
        "# Create review dataframes for each category of star rating\n",
        "df1 = df[df['stars']==1]\n",
        "df2 = df[df['stars']==2]\n",
        "df3 = df[df['stars']==3]\n",
        "df4 = df[df['stars']==4]\n",
        "df5 = df[df['stars']==5]\n",
        "\n",
        "df1.head()"
      ],
      "execution_count": 3,
      "outputs": [
        {
          "output_type": "execute_result",
          "data": {
            "text/html": [
              "<div>\n",
              "<style scoped>\n",
              "    .dataframe tbody tr th:only-of-type {\n",
              "        vertical-align: middle;\n",
              "    }\n",
              "\n",
              "    .dataframe tbody tr th {\n",
              "        vertical-align: top;\n",
              "    }\n",
              "\n",
              "    .dataframe thead th {\n",
              "        text-align: right;\n",
              "    }\n",
              "</style>\n",
              "<table border=\"1\" class=\"dataframe\">\n",
              "  <thead>\n",
              "    <tr style=\"text-align: right;\">\n",
              "      <th></th>\n",
              "      <th>comment</th>\n",
              "      <th>stars</th>\n",
              "    </tr>\n",
              "  </thead>\n",
              "  <tbody>\n",
              "    <tr>\n",
              "      <th>4</th>\n",
              "      <td>BUYER BE AWARE: This computer has Microsoft 10...</td>\n",
              "      <td>1</td>\n",
              "    </tr>\n",
              "    <tr>\n",
              "      <th>14</th>\n",
              "      <td>Why Acer install this version of Windows 10 wi...</td>\n",
              "      <td>1</td>\n",
              "    </tr>\n",
              "    <tr>\n",
              "      <th>15</th>\n",
              "      <td>As I write this I am on the phone with Microso...</td>\n",
              "      <td>1</td>\n",
              "    </tr>\n",
              "    <tr>\n",
              "      <th>23</th>\n",
              "      <td>Just abominable, at the absolute worst time in...</td>\n",
              "      <td>1</td>\n",
              "    </tr>\n",
              "    <tr>\n",
              "      <th>26</th>\n",
              "      <td>Beware of Windows 10s. I’ve been on live chat ...</td>\n",
              "      <td>1</td>\n",
              "    </tr>\n",
              "  </tbody>\n",
              "</table>\n",
              "</div>"
            ],
            "text/plain": [
              "                                              comment  stars\n",
              "4   BUYER BE AWARE: This computer has Microsoft 10...      1\n",
              "14  Why Acer install this version of Windows 10 wi...      1\n",
              "15  As I write this I am on the phone with Microso...      1\n",
              "23  Just abominable, at the absolute worst time in...      1\n",
              "26  Beware of Windows 10s. I’ve been on live chat ...      1"
            ]
          },
          "metadata": {
            "tags": []
          },
          "execution_count": 3
        }
      ]
    },
    {
      "cell_type": "code",
      "metadata": {
        "id": "jYFOkUtMs4mS",
        "outputId": "60afdbda-d45c-445c-9a85-c472d985c62c",
        "colab": {
          "base_uri": "https://localhost:8080/"
        }
      },
      "source": [
        "# Required modules\n",
        "!pip install Unidecode\n",
        "!pip install word2number"
      ],
      "execution_count": 4,
      "outputs": [
        {
          "output_type": "stream",
          "text": [
            "Requirement already satisfied: Unidecode in /usr/local/lib/python3.6/dist-packages (1.1.1)\n",
            "Requirement already satisfied: word2number in /usr/local/lib/python3.6/dist-packages (1.1)\n"
          ],
          "name": "stdout"
        }
      ]
    },
    {
      "cell_type": "code",
      "metadata": {
        "id": "F4B1q5UIfURl",
        "outputId": "420fdc31-7414-4d9d-8a6e-268ebc284e2f",
        "colab": {
          "base_uri": "https://localhost:8080/"
        }
      },
      "source": [
        "# More imports\n",
        "import nltk\n",
        "nltk.download('stopwords')\n",
        "nltk.download('wordnet')\n",
        "from nltk.stem.wordnet import WordNetLemmatizer\n",
        "from nltk.stem.porter import PorterStemmer\n",
        "from nltk.corpus import stopwords\n",
        "from nltk.tokenize import RegexpTokenizer \n",
        "\n",
        "import string\n",
        "import unidecode\n",
        "import re\n",
        "import unidecode\n",
        "\n",
        "# !python -m spacy download en_core_web_md\n",
        "# import spacy\n",
        "# from word2number import w2n"
      ],
      "execution_count": 5,
      "outputs": [
        {
          "output_type": "stream",
          "text": [
            "[nltk_data] Downloading package stopwords to /root/nltk_data...\n",
            "[nltk_data]   Package stopwords is already up-to-date!\n",
            "[nltk_data] Downloading package wordnet to /root/nltk_data...\n",
            "[nltk_data]   Package wordnet is already up-to-date!\n"
          ],
          "name": "stdout"
        }
      ]
    },
    {
      "cell_type": "code",
      "metadata": {
        "id": "PfljQ4s-OviO"
      },
      "source": [
        "# Tokenizer instantiation\n",
        "tokenizer = RegexpTokenizer(r\"\\w+[a-zA-Z]\")"
      ],
      "execution_count": 6,
      "outputs": []
    },
    {
      "cell_type": "code",
      "metadata": {
        "id": "9sEso8FTCv0C"
      },
      "source": [
        "# TODO?: \n",
        "# Convert number words to numeric characters\n",
        "\n",
        "# load spacy model\n",
        "# nlp = spacy.load('en_core_web_md')\n",
        "\n",
        "# def words_to_nums(text):\n",
        "#   doc = nlp(text)\n",
        "#   tokens = [w2n.word_to_num(token.text) if token.pos_ == 'NUM' else token for token in doc]\n",
        "#   return tokens"
      ],
      "execution_count": 7,
      "outputs": []
    },
    {
      "cell_type": "code",
      "metadata": {
        "id": "hPwu_PD6CxVK"
      },
      "source": [
        "# Remove numeric characters\n",
        "def remove_nums(text):\n",
        "  text = re.sub(\"\\d+\", \" \", text)\n",
        "  return text"
      ],
      "execution_count": 8,
      "outputs": []
    },
    {
      "cell_type": "code",
      "metadata": {
        "id": "F0jRQdJ2OpVF"
      },
      "source": [
        "# Remove stop words\n",
        "def remove_stopwords(text):\n",
        "  stoplist = stopwords.words('english')\n",
        "  not_stopwords = {'no', 'not'} # should not remove these if doing sentiment analysis\n",
        "  stoplist = set([word for word in stoplist if word not in not_stopwords])\n",
        "  words = [w for w in text if w not in stoplist]\n",
        "  return words"
      ],
      "execution_count": 9,
      "outputs": []
    },
    {
      "cell_type": "code",
      "metadata": {
        "id": "wVY4RPLb0ho6"
      },
      "source": [
        "# Lemmatization\n",
        "lemmatizer = WordNetLemmatizer() \n",
        "def lemmatize(text):\n",
        "  lem_text = [lemmatizer.lemmatize(i) for i in text]\n",
        "  return lem_text"
      ],
      "execution_count": 10,
      "outputs": []
    },
    {
      "cell_type": "code",
      "metadata": {
        "id": "lffZyHvHO75v"
      },
      "source": [
        "# Convert accented characters to ascii\n",
        "def remove_accents(text):\n",
        "  text = unidecode.unidecode(text)\n",
        "  return text"
      ],
      "execution_count": 11,
      "outputs": []
    },
    {
      "cell_type": "code",
      "metadata": {
        "id": "jxye8aLpPAHW",
        "outputId": "f90b960b-ce24-4bc2-abda-07ed9727248f",
        "colab": {
          "base_uri": "https://localhost:8080/"
        }
      },
      "source": [
        "# Perform preprocessing for each category of star rating\n",
        "df_list = [df1, df2, df3, df4, df5]\n",
        "\n",
        "for frame in df_list:\n",
        "  frame['comment'] = frame['comment'].apply(lambda x: remove_accents(x))\n",
        "  frame['comment'] = frame['comment'].apply(lambda x: remove_nums(x))\n",
        "  frame['comment'] = frame['comment'].apply(lambda x: tokenizer.tokenize(x.lower())) # tokenizes and convert to lowercase\n",
        "  frame['comment'] = frame['comment'].apply(lambda x: remove_stopwords(x))\n",
        "  frame['comment'] = frame['comment'].apply(lambda x: lemmatize(x))"
      ],
      "execution_count": 12,
      "outputs": [
        {
          "output_type": "stream",
          "text": [
            "/usr/local/lib/python3.6/dist-packages/ipykernel_launcher.py:5: SettingWithCopyWarning: \n",
            "A value is trying to be set on a copy of a slice from a DataFrame.\n",
            "Try using .loc[row_indexer,col_indexer] = value instead\n",
            "\n",
            "See the caveats in the documentation: https://pandas.pydata.org/pandas-docs/stable/user_guide/indexing.html#returning-a-view-versus-a-copy\n",
            "  \"\"\"\n",
            "/usr/local/lib/python3.6/dist-packages/ipykernel_launcher.py:6: SettingWithCopyWarning: \n",
            "A value is trying to be set on a copy of a slice from a DataFrame.\n",
            "Try using .loc[row_indexer,col_indexer] = value instead\n",
            "\n",
            "See the caveats in the documentation: https://pandas.pydata.org/pandas-docs/stable/user_guide/indexing.html#returning-a-view-versus-a-copy\n",
            "  \n",
            "/usr/local/lib/python3.6/dist-packages/ipykernel_launcher.py:7: SettingWithCopyWarning: \n",
            "A value is trying to be set on a copy of a slice from a DataFrame.\n",
            "Try using .loc[row_indexer,col_indexer] = value instead\n",
            "\n",
            "See the caveats in the documentation: https://pandas.pydata.org/pandas-docs/stable/user_guide/indexing.html#returning-a-view-versus-a-copy\n",
            "  import sys\n",
            "/usr/local/lib/python3.6/dist-packages/ipykernel_launcher.py:8: SettingWithCopyWarning: \n",
            "A value is trying to be set on a copy of a slice from a DataFrame.\n",
            "Try using .loc[row_indexer,col_indexer] = value instead\n",
            "\n",
            "See the caveats in the documentation: https://pandas.pydata.org/pandas-docs/stable/user_guide/indexing.html#returning-a-view-versus-a-copy\n",
            "  \n",
            "/usr/local/lib/python3.6/dist-packages/ipykernel_launcher.py:9: SettingWithCopyWarning: \n",
            "A value is trying to be set on a copy of a slice from a DataFrame.\n",
            "Try using .loc[row_indexer,col_indexer] = value instead\n",
            "\n",
            "See the caveats in the documentation: https://pandas.pydata.org/pandas-docs/stable/user_guide/indexing.html#returning-a-view-versus-a-copy\n",
            "  if __name__ == '__main__':\n"
          ],
          "name": "stderr"
        }
      ]
    },
    {
      "cell_type": "code",
      "metadata": {
        "id": "-7juJrAvqDJB",
        "outputId": "1cb470b0-5cf8-4ff8-d9f8-4c9974ae23fd",
        "colab": {
          "base_uri": "https://localhost:8080/",
          "height": 204
        }
      },
      "source": [
        "# Test\n",
        "df1.head()"
      ],
      "execution_count": 13,
      "outputs": [
        {
          "output_type": "execute_result",
          "data": {
            "text/html": [
              "<div>\n",
              "<style scoped>\n",
              "    .dataframe tbody tr th:only-of-type {\n",
              "        vertical-align: middle;\n",
              "    }\n",
              "\n",
              "    .dataframe tbody tr th {\n",
              "        vertical-align: top;\n",
              "    }\n",
              "\n",
              "    .dataframe thead th {\n",
              "        text-align: right;\n",
              "    }\n",
              "</style>\n",
              "<table border=\"1\" class=\"dataframe\">\n",
              "  <thead>\n",
              "    <tr style=\"text-align: right;\">\n",
              "      <th></th>\n",
              "      <th>comment</th>\n",
              "      <th>stars</th>\n",
              "    </tr>\n",
              "  </thead>\n",
              "  <tbody>\n",
              "    <tr>\n",
              "      <th>4</th>\n",
              "      <td>[buyer, aware, computer, microsoft, scam, soft...</td>\n",
              "      <td>1</td>\n",
              "    </tr>\n",
              "    <tr>\n",
              "      <th>14</th>\n",
              "      <td>[acer, install, version, window, forced, mode,...</td>\n",
              "      <td>1</td>\n",
              "    </tr>\n",
              "    <tr>\n",
              "      <th>15</th>\n",
              "      <td>[write, phone, microsoft, attempting, get, mul...</td>\n",
              "      <td>1</td>\n",
              "    </tr>\n",
              "    <tr>\n",
              "      <th>23</th>\n",
              "      <td>[abominable, absolute, worst, time, life, poss...</td>\n",
              "      <td>1</td>\n",
              "    </tr>\n",
              "    <tr>\n",
              "      <th>26</th>\n",
              "      <td>[beware, window, live, chat, microsoft, hour, ...</td>\n",
              "      <td>1</td>\n",
              "    </tr>\n",
              "  </tbody>\n",
              "</table>\n",
              "</div>"
            ],
            "text/plain": [
              "                                              comment  stars\n",
              "4   [buyer, aware, computer, microsoft, scam, soft...      1\n",
              "14  [acer, install, version, window, forced, mode,...      1\n",
              "15  [write, phone, microsoft, attempting, get, mul...      1\n",
              "23  [abominable, absolute, worst, time, life, poss...      1\n",
              "26  [beware, window, live, chat, microsoft, hour, ...      1"
            ]
          },
          "metadata": {
            "tags": []
          },
          "execution_count": 13
        }
      ]
    },
    {
      "cell_type": "code",
      "metadata": {
        "id": "__lLsOY9z5vI",
        "outputId": "a005f343-3965-4e9a-9703-fec9f4a9b058",
        "colab": {
          "base_uri": "https://localhost:8080/",
          "height": 204
        }
      },
      "source": [
        "# Test\n",
        "df2.head()"
      ],
      "execution_count": 14,
      "outputs": [
        {
          "output_type": "execute_result",
          "data": {
            "text/html": [
              "<div>\n",
              "<style scoped>\n",
              "    .dataframe tbody tr th:only-of-type {\n",
              "        vertical-align: middle;\n",
              "    }\n",
              "\n",
              "    .dataframe tbody tr th {\n",
              "        vertical-align: top;\n",
              "    }\n",
              "\n",
              "    .dataframe thead th {\n",
              "        text-align: right;\n",
              "    }\n",
              "</style>\n",
              "<table border=\"1\" class=\"dataframe\">\n",
              "  <thead>\n",
              "    <tr style=\"text-align: right;\">\n",
              "      <th></th>\n",
              "      <th>comment</th>\n",
              "      <th>stars</th>\n",
              "    </tr>\n",
              "  </thead>\n",
              "  <tbody>\n",
              "    <tr>\n",
              "      <th>18</th>\n",
              "      <td>[update, computer, fried, simply, boot, anymor...</td>\n",
              "      <td>2</td>\n",
              "    </tr>\n",
              "    <tr>\n",
              "      <th>34</th>\n",
              "      <td>[using, acer, laptop, decade, fact, still, usi...</td>\n",
              "      <td>2</td>\n",
              "    </tr>\n",
              "    <tr>\n",
              "      <th>44</th>\n",
              "      <td>[result, shelter, place, initiative, bought, t...</td>\n",
              "      <td>2</td>\n",
              "    </tr>\n",
              "    <tr>\n",
              "      <th>52</th>\n",
              "      <td>[initially, loved, laptop, would, give, star, ...</td>\n",
              "      <td>2</td>\n",
              "    </tr>\n",
              "    <tr>\n",
              "      <th>60</th>\n",
              "      <td>[laptop, received, review, opened, prior, actu...</td>\n",
              "      <td>2</td>\n",
              "    </tr>\n",
              "  </tbody>\n",
              "</table>\n",
              "</div>"
            ],
            "text/plain": [
              "                                              comment  stars\n",
              "18  [update, computer, fried, simply, boot, anymor...      2\n",
              "34  [using, acer, laptop, decade, fact, still, usi...      2\n",
              "44  [result, shelter, place, initiative, bought, t...      2\n",
              "52  [initially, loved, laptop, would, give, star, ...      2\n",
              "60  [laptop, received, review, opened, prior, actu...      2"
            ]
          },
          "metadata": {
            "tags": []
          },
          "execution_count": 14
        }
      ]
    },
    {
      "cell_type": "code",
      "metadata": {
        "id": "VBtHmRJx0DX4"
      },
      "source": [
        "# Test: Inspect one set of tokens for one review comment\n",
        "# stringg = df2.iloc[0:1,0:1]\n",
        "# stringg.to_csv('sample.csv')"
      ],
      "execution_count": 15,
      "outputs": []
    },
    {
      "cell_type": "code",
      "metadata": {
        "id": "XHRuV-sh4Thw",
        "outputId": "6ab6be4d-66ec-48f9-c505-43e461870562",
        "colab": {
          "base_uri": "https://localhost:8080/",
          "height": 204
        }
      },
      "source": [
        "# Test\n",
        "df5.head()"
      ],
      "execution_count": 16,
      "outputs": [
        {
          "output_type": "execute_result",
          "data": {
            "text/html": [
              "<div>\n",
              "<style scoped>\n",
              "    .dataframe tbody tr th:only-of-type {\n",
              "        vertical-align: middle;\n",
              "    }\n",
              "\n",
              "    .dataframe tbody tr th {\n",
              "        vertical-align: top;\n",
              "    }\n",
              "\n",
              "    .dataframe thead th {\n",
              "        text-align: right;\n",
              "    }\n",
              "</style>\n",
              "<table border=\"1\" class=\"dataframe\">\n",
              "  <thead>\n",
              "    <tr style=\"text-align: right;\">\n",
              "      <th></th>\n",
              "      <th>comment</th>\n",
              "      <th>stars</th>\n",
              "    </tr>\n",
              "  </thead>\n",
              "  <tbody>\n",
              "    <tr>\n",
              "      <th>0</th>\n",
              "      <td>[could, sit, write, spec, computer, already, d...</td>\n",
              "      <td>5</td>\n",
              "    </tr>\n",
              "    <tr>\n",
              "      <th>2</th>\n",
              "      <td>[best, laptop, deal, get, full, stop, touchesc...</td>\n",
              "      <td>5</td>\n",
              "    </tr>\n",
              "    <tr>\n",
              "      <th>3</th>\n",
              "      <td>[month, purchase, still, running, good, bought...</td>\n",
              "      <td>5</td>\n",
              "    </tr>\n",
              "    <tr>\n",
              "      <th>5</th>\n",
              "      <td>[update, labtop, completely, died, near, end, ...</td>\n",
              "      <td>5</td>\n",
              "    </tr>\n",
              "    <tr>\n",
              "      <th>7</th>\n",
              "      <td>[run, amazing]</td>\n",
              "      <td>5</td>\n",
              "    </tr>\n",
              "  </tbody>\n",
              "</table>\n",
              "</div>"
            ],
            "text/plain": [
              "                                             comment  stars\n",
              "0  [could, sit, write, spec, computer, already, d...      5\n",
              "2  [best, laptop, deal, get, full, stop, touchesc...      5\n",
              "3  [month, purchase, still, running, good, bought...      5\n",
              "5  [update, labtop, completely, died, near, end, ...      5\n",
              "7                                     [run, amazing]      5"
            ]
          },
          "metadata": {
            "tags": []
          },
          "execution_count": 16
        }
      ]
    },
    {
      "cell_type": "code",
      "metadata": {
        "id": "ZDClXDgP2Q5U"
      },
      "source": [
        "# Create composite dataframe of tokens for all reviews, for all star ratings\n",
        "mega_df = pd.concat(objs=[df1,df2,df3,df4,df5])"
      ],
      "execution_count": 17,
      "outputs": []
    },
    {
      "cell_type": "code",
      "metadata": {
        "id": "jkRSUsKT38fP"
      },
      "source": [
        "# Save as csv files\n",
        "mega_df.to_csv('all_tokens_stars.csv')\n",
        "\n",
        "for idx, frame in enumerate(df_list):\n",
        "  filename = 'tokens_rating_'+str(idx+1)+'.csv'\n",
        "  frame.to_csv(filename)"
      ],
      "execution_count": 18,
      "outputs": []
    },
    {
      "cell_type": "markdown",
      "metadata": {
        "id": "yTB3CGE4Hshb"
      },
      "source": [
        "#References:\n",
        "1. https://towardsdatascience.com/nlp-text-preprocessing-a-practical-guide-and-template-d80874676e79\n",
        "2. https://towardsdatascience.com/nlp-for-beginners-cleaning-preprocessing-text-data-ae8e306bef0f"
      ]
    }
  ]
}