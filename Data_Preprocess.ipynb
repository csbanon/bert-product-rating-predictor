{
 "cells": [
  {
   "cell_type": "code",
   "execution_count": 1,
   "metadata": {},
   "outputs": [],
   "source": [
    "import glob\n",
    "import numpy as np\n",
    "import pandas as pd\n",
    "import torch\n",
    "from transformers import AutoTokenizer"
   ]
  },
  {
   "cell_type": "code",
   "execution_count": 2,
   "metadata": {},
   "outputs": [
    {
     "name": "stdout",
     "output_type": "stream",
     "text": [
      "Input sentence:  Hello my name is Jin \n",
      "\n",
      "Encoded:  {'input_ids': [101, 7592, 2026, 2171, 2003, 9743, 102], 'token_type_ids': [0, 0, 0, 0, 0, 0, 0], 'attention_mask': [1, 1, 1, 1, 1, 1, 1]} \n",
      "\n",
      "Decoded:  [CLS] hello my name is jin [SEP] \n",
      "\n"
     ]
    }
   ],
   "source": [
    "# Test sentence\n",
    "tokenizer = AutoTokenizer.from_pretrained('bert-base-uncased')\n",
    "input_sentence = \"Hello my name is Jin\"\n",
    "encoded = tokenizer(input_sentence)\n",
    "print('Input sentence: ', input_sentence, '\\n')\n",
    "print('Encoded: ', encoded, '\\n')\n",
    "print('Decoded: ', tokenizer.decode(encoded['input_ids']), '\\n')\n"
   ]
  },
  {
   "cell_type": "code",
   "execution_count": 3,
   "metadata": {},
   "outputs": [
    {
     "name": "stdout",
     "output_type": "stream",
     "text": [
      "['./Reviews/product028.csv', './Reviews/product014.csv', './Reviews/product001.csv', './Reviews/product015.csv', './Reviews/product029.csv', './Reviews/product003.csv', './Reviews/product017.csv', './Reviews/product016.csv', './Reviews/product002.csv', './Reviews/product006.csv', './Reviews/product012.csv', './Reviews/product013.csv', './Reviews/product007.csv', './Reviews/product011.csv', './Reviews/product005.csv', './Reviews/product004.csv', './Reviews/product010.csv', './Reviews/product009.csv', './Reviews/product021.csv', './Reviews/product020.csv', './Reviews/product008.csv', './Reviews/product022.csv', './Reviews/product023.csv', './Reviews/product027.csv', './Reviews/product026.csv', './Reviews/product030.csv', './Reviews/product024.csv', './Reviews/product018.csv', './Reviews/product019.csv', './Reviews/product025.csv']\n"
     ]
    }
   ],
   "source": [
    "# Get all review files\n",
    "files = glob.glob(r'./Reviews/*[0-9].csv')\n",
    "print(files)"
   ]
  },
  {
   "cell_type": "code",
   "execution_count": 4,
   "metadata": {},
   "outputs": [
    {
     "data": {
      "text/html": [
       "<div>\n",
       "<style scoped>\n",
       "    .dataframe tbody tr th:only-of-type {\n",
       "        vertical-align: middle;\n",
       "    }\n",
       "\n",
       "    .dataframe tbody tr th {\n",
       "        vertical-align: top;\n",
       "    }\n",
       "\n",
       "    .dataframe thead th {\n",
       "        text-align: right;\n",
       "    }\n",
       "</style>\n",
       "<table border=\"1\" class=\"dataframe\">\n",
       "  <thead>\n",
       "    <tr style=\"text-align: right;\">\n",
       "      <th></th>\n",
       "      <th>comment</th>\n",
       "      <th>stars</th>\n",
       "      <th>verified</th>\n",
       "      <th>date</th>\n",
       "      <th>country</th>\n",
       "      <th>helpful</th>\n",
       "      <th>has-media</th>\n",
       "    </tr>\n",
       "  </thead>\n",
       "  <tbody>\n",
       "    <tr>\n",
       "      <th>0</th>\n",
       "      <td>The noise cancellation is awesome and works we...</td>\n",
       "      <td>5</td>\n",
       "      <td>1</td>\n",
       "      <td>2017-9-13</td>\n",
       "      <td>1</td>\n",
       "      <td>2</td>\n",
       "      <td>0</td>\n",
       "    </tr>\n",
       "    <tr>\n",
       "      <th>1</th>\n",
       "      <td>After seeing all the high reviews for these he...</td>\n",
       "      <td>1</td>\n",
       "      <td>1</td>\n",
       "      <td>2018-12-21</td>\n",
       "      <td>1</td>\n",
       "      <td>1</td>\n",
       "      <td>1</td>\n",
       "    </tr>\n",
       "    <tr>\n",
       "      <th>2</th>\n",
       "      <td>Absolutely love these. I have no issues. Gener...</td>\n",
       "      <td>5</td>\n",
       "      <td>1</td>\n",
       "      <td>2020-8-19</td>\n",
       "      <td>1</td>\n",
       "      <td>1</td>\n",
       "      <td>0</td>\n",
       "    </tr>\n",
       "    <tr>\n",
       "      <th>3</th>\n",
       "      <td>I have tried many other brands of headphones a...</td>\n",
       "      <td>5</td>\n",
       "      <td>1</td>\n",
       "      <td>2017-10-24</td>\n",
       "      <td>1</td>\n",
       "      <td>2</td>\n",
       "      <td>1</td>\n",
       "    </tr>\n",
       "    <tr>\n",
       "      <th>4</th>\n",
       "      <td>The right swivel axis broke AGAIN after 6 mont...</td>\n",
       "      <td>1</td>\n",
       "      <td>1</td>\n",
       "      <td>2018-1-28</td>\n",
       "      <td>1</td>\n",
       "      <td>1</td>\n",
       "      <td>0</td>\n",
       "    </tr>\n",
       "    <tr>\n",
       "      <th>...</th>\n",
       "      <td>...</td>\n",
       "      <td>...</td>\n",
       "      <td>...</td>\n",
       "      <td>...</td>\n",
       "      <td>...</td>\n",
       "      <td>...</td>\n",
       "      <td>...</td>\n",
       "    </tr>\n",
       "    <tr>\n",
       "      <th>120384</th>\n",
       "      <td>Love this device. So helpful</td>\n",
       "      <td>5</td>\n",
       "      <td>1</td>\n",
       "      <td>2020-1-15</td>\n",
       "      <td>1</td>\n",
       "      <td>0</td>\n",
       "      <td>0</td>\n",
       "    </tr>\n",
       "    <tr>\n",
       "      <th>120385</th>\n",
       "      <td>I love everything about it very nice easy to c...</td>\n",
       "      <td>5</td>\n",
       "      <td>0</td>\n",
       "      <td>2020-2-17</td>\n",
       "      <td>1</td>\n",
       "      <td>0</td>\n",
       "      <td>0</td>\n",
       "    </tr>\n",
       "    <tr>\n",
       "      <th>120386</th>\n",
       "      <td>Love this machine. Now calibrated as my home g...</td>\n",
       "      <td>5</td>\n",
       "      <td>1</td>\n",
       "      <td>2020-8-19</td>\n",
       "      <td>1</td>\n",
       "      <td>0</td>\n",
       "      <td>0</td>\n",
       "    </tr>\n",
       "    <tr>\n",
       "      <th>120387</th>\n",
       "      <td>Love my echo 8, have in kitchen, easy to get r...</td>\n",
       "      <td>5</td>\n",
       "      <td>1</td>\n",
       "      <td>2020-2-5</td>\n",
       "      <td>1</td>\n",
       "      <td>0</td>\n",
       "      <td>0</td>\n",
       "    </tr>\n",
       "    <tr>\n",
       "      <th>120388</th>\n",
       "      <td>Love it, Like lyrics on music and all of recipe</td>\n",
       "      <td>5</td>\n",
       "      <td>1</td>\n",
       "      <td>2020-8-24</td>\n",
       "      <td>1</td>\n",
       "      <td>0</td>\n",
       "      <td>1</td>\n",
       "    </tr>\n",
       "  </tbody>\n",
       "</table>\n",
       "<p>120389 rows × 7 columns</p>\n",
       "</div>"
      ],
      "text/plain": [
       "                                                  comment  stars  verified  \\\n",
       "0       The noise cancellation is awesome and works we...      5         1   \n",
       "1       After seeing all the high reviews for these he...      1         1   \n",
       "2       Absolutely love these. I have no issues. Gener...      5         1   \n",
       "3       I have tried many other brands of headphones a...      5         1   \n",
       "4       The right swivel axis broke AGAIN after 6 mont...      1         1   \n",
       "...                                                   ...    ...       ...   \n",
       "120384                       Love this device. So helpful      5         1   \n",
       "120385  I love everything about it very nice easy to c...      5         0   \n",
       "120386  Love this machine. Now calibrated as my home g...      5         1   \n",
       "120387  Love my echo 8, have in kitchen, easy to get r...      5         1   \n",
       "120388    Love it, Like lyrics on music and all of recipe      5         1   \n",
       "\n",
       "              date  country  helpful  has-media  \n",
       "0        2017-9-13        1        2          0  \n",
       "1       2018-12-21        1        1          1  \n",
       "2        2020-8-19        1        1          0  \n",
       "3       2017-10-24        1        2          1  \n",
       "4        2018-1-28        1        1          0  \n",
       "...            ...      ...      ...        ...  \n",
       "120384   2020-1-15        1        0          0  \n",
       "120385   2020-2-17        1        0          0  \n",
       "120386   2020-8-19        1        0          0  \n",
       "120387    2020-2-5        1        0          0  \n",
       "120388   2020-8-24        1        0          1  \n",
       "\n",
       "[120389 rows x 7 columns]"
      ]
     },
     "execution_count": 4,
     "metadata": {},
     "output_type": "execute_result"
    }
   ],
   "source": [
    "# Concat all review data from different products into one big dataframe\n",
    "df_list = []\n",
    "\n",
    "for file in files:\n",
    "    df = pd.read_csv(file)\n",
    "    df_list.append(df)\n",
    "    \n",
    "df = pd.concat(df_list, axis=0, ignore_index=True)\n",
    "df"
   ]
  },
  {
   "cell_type": "code",
   "execution_count": 5,
   "metadata": {},
   "outputs": [
    {
     "data": {
      "text/plain": [
       "comment       True\n",
       "stars        False\n",
       "verified     False\n",
       "date         False\n",
       "country      False\n",
       "helpful      False\n",
       "has-media    False\n",
       "dtype: bool"
      ]
     },
     "execution_count": 5,
     "metadata": {},
     "output_type": "execute_result"
    }
   ],
   "source": [
    "# Check for missing values\n",
    "df.isnull().any()"
   ]
  },
  {
   "cell_type": "code",
   "execution_count": 6,
   "metadata": {},
   "outputs": [
    {
     "name": "stdout",
     "output_type": "stream",
     "text": [
      "Number of reviews missing comments:  17\n",
      "Missing indices:  [19697, 25781, 43301, 52167, 67005, 67045, 73724, 76041, 79221, 79929, 83309, 92274, 93990, 94006, 111184, 120116, 120346]\n"
     ]
    }
   ],
   "source": [
    "# Find reviews with missing comments\n",
    "missing_indices = df[df['comment'].isnull()].index.tolist()\n",
    "print('Number of reviews missing comments: ', len(missing_indices))\n",
    "print('Missing indices: ', missing_indices)"
   ]
  },
  {
   "cell_type": "code",
   "execution_count": 7,
   "metadata": {},
   "outputs": [
    {
     "name": "stdout",
     "output_type": "stream",
     "text": [
      "comment            NaN\n",
      "stars                5\n",
      "verified             1\n",
      "date         2020-3-13\n",
      "country              1\n",
      "helpful              1\n",
      "has-media            0\n",
      "Name: 120116, dtype: object\n"
     ]
    }
   ],
   "source": [
    "# See what an example review with missing comment looks like\n",
    "print(df.iloc[120116])"
   ]
  },
  {
   "cell_type": "code",
   "execution_count": 8,
   "metadata": {},
   "outputs": [
    {
     "name": "stdout",
     "output_type": "stream",
     "text": [
      "Max comment length (of all products):  5127\n"
     ]
    }
   ],
   "source": [
    "print('Max comment length (of all products): ', int(df.comment.str.len().max()))"
   ]
  },
  {
   "cell_type": "code",
   "execution_count": 9,
   "metadata": {},
   "outputs": [
    {
     "data": {
      "text/html": [
       "<div>\n",
       "<style scoped>\n",
       "    .dataframe tbody tr th:only-of-type {\n",
       "        vertical-align: middle;\n",
       "    }\n",
       "\n",
       "    .dataframe tbody tr th {\n",
       "        vertical-align: top;\n",
       "    }\n",
       "\n",
       "    .dataframe thead th {\n",
       "        text-align: right;\n",
       "    }\n",
       "</style>\n",
       "<table border=\"1\" class=\"dataframe\">\n",
       "  <thead>\n",
       "    <tr style=\"text-align: right;\">\n",
       "      <th></th>\n",
       "      <th>comment</th>\n",
       "      <th>stars</th>\n",
       "    </tr>\n",
       "  </thead>\n",
       "  <tbody>\n",
       "    <tr>\n",
       "      <th>0</th>\n",
       "      <td>The noise cancellation is awesome and works we...</td>\n",
       "      <td>5</td>\n",
       "    </tr>\n",
       "    <tr>\n",
       "      <th>1</th>\n",
       "      <td>After seeing all the high reviews for these he...</td>\n",
       "      <td>1</td>\n",
       "    </tr>\n",
       "    <tr>\n",
       "      <th>2</th>\n",
       "      <td>Absolutely love these. I have no issues. Gener...</td>\n",
       "      <td>5</td>\n",
       "    </tr>\n",
       "    <tr>\n",
       "      <th>3</th>\n",
       "      <td>I have tried many other brands of headphones a...</td>\n",
       "      <td>5</td>\n",
       "    </tr>\n",
       "    <tr>\n",
       "      <th>4</th>\n",
       "      <td>The right swivel axis broke AGAIN after 6 mont...</td>\n",
       "      <td>1</td>\n",
       "    </tr>\n",
       "    <tr>\n",
       "      <th>...</th>\n",
       "      <td>...</td>\n",
       "      <td>...</td>\n",
       "    </tr>\n",
       "    <tr>\n",
       "      <th>120384</th>\n",
       "      <td>Love this device. So helpful</td>\n",
       "      <td>5</td>\n",
       "    </tr>\n",
       "    <tr>\n",
       "      <th>120385</th>\n",
       "      <td>I love everything about it very nice easy to c...</td>\n",
       "      <td>5</td>\n",
       "    </tr>\n",
       "    <tr>\n",
       "      <th>120386</th>\n",
       "      <td>Love this machine. Now calibrated as my home g...</td>\n",
       "      <td>5</td>\n",
       "    </tr>\n",
       "    <tr>\n",
       "      <th>120387</th>\n",
       "      <td>Love my echo 8, have in kitchen, easy to get r...</td>\n",
       "      <td>5</td>\n",
       "    </tr>\n",
       "    <tr>\n",
       "      <th>120388</th>\n",
       "      <td>Love it, Like lyrics on music and all of recipe</td>\n",
       "      <td>5</td>\n",
       "    </tr>\n",
       "  </tbody>\n",
       "</table>\n",
       "<p>120389 rows × 2 columns</p>\n",
       "</div>"
      ],
      "text/plain": [
       "                                                  comment  stars\n",
       "0       The noise cancellation is awesome and works we...      5\n",
       "1       After seeing all the high reviews for these he...      1\n",
       "2       Absolutely love these. I have no issues. Gener...      5\n",
       "3       I have tried many other brands of headphones a...      5\n",
       "4       The right swivel axis broke AGAIN after 6 mont...      1\n",
       "...                                                   ...    ...\n",
       "120384                       Love this device. So helpful      5\n",
       "120385  I love everything about it very nice easy to c...      5\n",
       "120386  Love this machine. Now calibrated as my home g...      5\n",
       "120387  Love my echo 8, have in kitchen, easy to get r...      5\n",
       "120388    Love it, Like lyrics on music and all of recipe      5\n",
       "\n",
       "[120389 rows x 2 columns]"
      ]
     },
     "execution_count": 9,
     "metadata": {},
     "output_type": "execute_result"
    }
   ],
   "source": [
    "# Get only the comments and star (labels) data\n",
    "comment_df = df[['comment', 'stars']]\n",
    "comment_df"
   ]
  },
  {
   "cell_type": "code",
   "execution_count": 10,
   "metadata": {},
   "outputs": [
    {
     "name": "stdout",
     "output_type": "stream",
     "text": [
      "The noise cancellation is awesome and works well with cancelling out noises such as: 55 gallon fish tank with tetra air pump and filters; Honeywell hepa air purifier 50250S on high mode; central a/c on; dogs snoring.I can still hear people talking if they are 10ft away having a full conversation but it does help some. (I tested it in the office) For the price it meets my personal needs. The sound quality works equal or better than my iPhone 7s connecting headset. Sync to Bluetooth was a breeze. Love the case and doesn't take long to charge. The headphone is comfortable. Quality seems well bit. I will post an update if it breaks. :)\n",
      "\n",
      "After seeing all the high reviews for these headphones, I purchased them with the expectation that they were going to be amazing, I came to the realization that those reviews were not accurate. I’m of the belief that those high reviews were left after the initial use of the headphones.Construction quality - They feel flimsy at best. The earphones are comfortable but the unit tends to slide off of ones head and doesn’t stay in place. After using them for a few months one of the earphones broke away from the unit and is only hanging by a wire. For the life of me I can’t figure out how it happened or how it was even staying in place.\n",
      "\n",
      "Absolutely love these. I have no issues. Generally, as long as the volume is high enough, I cannot hear anyone when music is playing (which I guess is the goal) but if it isn't high enough you can still here things. The color is really pretty...these have even fallen a few times and are still working great and perfectly. So they don't seem to break easily. I was little worried about buying some random brand of headphones but no regrets! The sound quality is great. The bass is great. I have no issues with it connecting to bluetooth as long as there are no other devices around it that it is connected to. IE, if my computer is on and my phone is on....it will choose to connect to whichever one the BT picks up first, which seems to always be the one that I don't want it to connect to. The battery lasts a very long time. As an example, one time I left them on a whole day and the battery still lasted a few more days before needing a charge.\n",
      "\n",
      "I have tried many other brands of headphones and comparatively these look much nicer than some of the really expensive brands I have tried. The sound quality is also great and they block outside noise very well. I purchased these for a long haul flight I was taking and they were extremely comfortable and not super bulky and heavy. I am very pleased with the battery life too. Overall these are a great pair of headphones and I would recommend them to anyone, especially if you will be wearing for long periods of time.\n",
      "\n",
      "The right swivel axis broke AGAIN after 6 months of everyday use.  They're totally useless now and I had hoped they would of lasted longer.They were great while they worked but won't buy it again because I want something that will last longer.\n",
      "\n"
     ]
    }
   ],
   "source": [
    "# print first 5 reviews\n",
    "for idx, row in comment_df[:5].iterrows():\n",
    "    print(row['comment'] + '\\n')"
   ]
  },
  {
   "cell_type": "code",
   "execution_count": 11,
   "metadata": {},
   "outputs": [],
   "source": [
    "class ReviewsDataset:\n",
    "    def __init__(self, df, max_length=1024):\n",
    "        self.df = df\n",
    "        self.tokenizer = AutoTokenizer.from_pretrained('bert-base-uncased')\n",
    "        self.max_length = max_length \n",
    "        \n",
    "    def __len__(self):\n",
    "        return len(self.df)\n",
    "    \n",
    "    def __getitem__(self, idx):\n",
    "        # input=review, label=rating\n",
    "        review = self.df.loc[idx, 'comment']\n",
    "        rating = int(self.df.loc[idx, 'stars'])\n",
    "        \n",
    "        encoded = self.tokenizer(\n",
    "            review,                      # review to encode\n",
    "            max_length=self.max_length,  # Truncate all segments to max_length\n",
    "            padding='max_length',        # pad all reviews with the [PAD] token to the max_length\n",
    "            return_attention_mask=True,  # Construct attention masks.\n",
    "            return_tensors='pt'\n",
    "        )\n",
    "        \n",
    "        input_ids = encoded['input_ids']\n",
    "        attn_mask = encoded['attention_mask']\n",
    "        \n",
    "        return {\n",
    "            'input_ids': input_ids, \n",
    "            'attn_mask': attn_mask, \n",
    "            'rating': rating\n",
    "        }"
   ]
  },
  {
   "cell_type": "code",
   "execution_count": 13,
   "metadata": {},
   "outputs": [
    {
     "name": "stdout",
     "output_type": "stream",
     "text": [
      "The noise cancellation is awesome and works well with cancelling out noises such as: 55 gallon fish tank with tetra air pump and filters; Honeywell hepa air purifier 50250S on high mode; central a/c on; dogs snoring.I can still hear people talking if they are 10ft away having a full conversation but it does help some. (I tested it in the office) For the price it meets my personal needs. The sound quality works equal or better than my iPhone 7s connecting headset. Sync to Bluetooth was a breeze. Love the case and doesn't take long to charge. The headphone is comfortable. Quality seems well bit. I will post an update if it breaks. :)\n",
      "{'input_ids': tensor([[ 101, 1996, 5005,  ...,    0,    0,    0]]), 'attn_mask': tensor([[1, 1, 1,  ..., 0, 0, 0]]), 'rating': 5}\n"
     ]
    }
   ],
   "source": [
    "data_set = ReviewsDataset(df, 1024)\n",
    "print(df.iloc[0]['comment'])\n",
    "print(data_set[0])"
   ]
  },
  {
   "cell_type": "code",
   "execution_count": null,
   "metadata": {},
   "outputs": [],
   "source": []
  },
  {
   "cell_type": "code",
   "execution_count": null,
   "metadata": {},
   "outputs": [],
   "source": []
  }
 ],
 "metadata": {
  "kernelspec": {
   "display_name": "Python 3",
   "language": "python",
   "name": "python3"
  },
  "language_info": {
   "codemirror_mode": {
    "name": "ipython",
    "version": 3
   },
   "file_extension": ".py",
   "mimetype": "text/x-python",
   "name": "python",
   "nbconvert_exporter": "python",
   "pygments_lexer": "ipython3",
   "version": "3.7.5"
  }
 },
 "nbformat": 4,
 "nbformat_minor": 4
}
